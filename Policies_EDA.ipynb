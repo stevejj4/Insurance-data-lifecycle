{
  "nbformat": 4,
  "nbformat_minor": 0,
  "metadata": {
    "colab": {
      "provenance": [],
      "authorship_tag": "ABX9TyOYxKdEZ+54dVRtdqCzJDbV",
      "include_colab_link": true
    },
    "kernelspec": {
      "name": "python3",
      "display_name": "Python 3"
    },
    "language_info": {
      "name": "python"
    }
  },
  "cells": [
    {
      "cell_type": "markdown",
      "metadata": {
        "id": "view-in-github",
        "colab_type": "text"
      },
      "source": [
        "<a href=\"https://colab.research.google.com/github/stevejj4/Insurance-data-lifecycle/blob/main/Policies_EDA.ipynb\" target=\"_parent\"><img src=\"https://colab.research.google.com/assets/colab-badge.svg\" alt=\"Open In Colab\"/></a>"
      ]
    },
    {
      "cell_type": "code",
      "execution_count": 34,
      "metadata": {
        "colab": {
          "base_uri": "https://localhost:8080/"
        },
        "id": "skNyN8q3JnmV",
        "outputId": "ceaeb755-6095-4d00-85ee-1cec4682ccf7"
      },
      "outputs": [
        {
          "output_type": "stream",
          "name": "stdout",
          "text": [
            "Requirement already satisfied: google-cloud-bigquery in /usr/local/lib/python3.10/dist-packages (3.25.0)\n",
            "Requirement already satisfied: google-api-core!=2.0.*,!=2.1.*,!=2.10.*,!=2.2.*,!=2.3.*,!=2.4.*,!=2.5.*,!=2.6.*,!=2.7.*,!=2.8.*,!=2.9.*,<3.0.0dev,>=1.34.1 in /usr/local/lib/python3.10/dist-packages (from google-api-core[grpc]!=2.0.*,!=2.1.*,!=2.10.*,!=2.2.*,!=2.3.*,!=2.4.*,!=2.5.*,!=2.6.*,!=2.7.*,!=2.8.*,!=2.9.*,<3.0.0dev,>=1.34.1->google-cloud-bigquery) (2.19.1)\n",
            "Requirement already satisfied: google-auth<3.0.0dev,>=2.14.1 in /usr/local/lib/python3.10/dist-packages (from google-cloud-bigquery) (2.27.0)\n",
            "Requirement already satisfied: google-cloud-core<3.0.0dev,>=1.6.0 in /usr/local/lib/python3.10/dist-packages (from google-cloud-bigquery) (2.4.1)\n",
            "Requirement already satisfied: google-resumable-media<3.0dev,>=0.6.0 in /usr/local/lib/python3.10/dist-packages (from google-cloud-bigquery) (2.7.1)\n",
            "Requirement already satisfied: packaging>=20.0.0 in /usr/local/lib/python3.10/dist-packages (from google-cloud-bigquery) (24.1)\n",
            "Requirement already satisfied: python-dateutil<3.0dev,>=2.7.2 in /usr/local/lib/python3.10/dist-packages (from google-cloud-bigquery) (2.8.2)\n",
            "Requirement already satisfied: requests<3.0.0dev,>=2.21.0 in /usr/local/lib/python3.10/dist-packages (from google-cloud-bigquery) (2.31.0)\n",
            "Requirement already satisfied: googleapis-common-protos<2.0.dev0,>=1.56.2 in /usr/local/lib/python3.10/dist-packages (from google-api-core!=2.0.*,!=2.1.*,!=2.10.*,!=2.2.*,!=2.3.*,!=2.4.*,!=2.5.*,!=2.6.*,!=2.7.*,!=2.8.*,!=2.9.*,<3.0.0dev,>=1.34.1->google-api-core[grpc]!=2.0.*,!=2.1.*,!=2.10.*,!=2.2.*,!=2.3.*,!=2.4.*,!=2.5.*,!=2.6.*,!=2.7.*,!=2.8.*,!=2.9.*,<3.0.0dev,>=1.34.1->google-cloud-bigquery) (1.63.2)\n",
            "Requirement already satisfied: protobuf!=3.20.0,!=3.20.1,!=4.21.0,!=4.21.1,!=4.21.2,!=4.21.3,!=4.21.4,!=4.21.5,<6.0.0.dev0,>=3.19.5 in /usr/local/lib/python3.10/dist-packages (from google-api-core!=2.0.*,!=2.1.*,!=2.10.*,!=2.2.*,!=2.3.*,!=2.4.*,!=2.5.*,!=2.6.*,!=2.7.*,!=2.8.*,!=2.9.*,<3.0.0dev,>=1.34.1->google-api-core[grpc]!=2.0.*,!=2.1.*,!=2.10.*,!=2.2.*,!=2.3.*,!=2.4.*,!=2.5.*,!=2.6.*,!=2.7.*,!=2.8.*,!=2.9.*,<3.0.0dev,>=1.34.1->google-cloud-bigquery) (3.20.3)\n",
            "Requirement already satisfied: proto-plus<2.0.0dev,>=1.22.3 in /usr/local/lib/python3.10/dist-packages (from google-api-core!=2.0.*,!=2.1.*,!=2.10.*,!=2.2.*,!=2.3.*,!=2.4.*,!=2.5.*,!=2.6.*,!=2.7.*,!=2.8.*,!=2.9.*,<3.0.0dev,>=1.34.1->google-api-core[grpc]!=2.0.*,!=2.1.*,!=2.10.*,!=2.2.*,!=2.3.*,!=2.4.*,!=2.5.*,!=2.6.*,!=2.7.*,!=2.8.*,!=2.9.*,<3.0.0dev,>=1.34.1->google-cloud-bigquery) (1.24.0)\n",
            "Requirement already satisfied: grpcio<2.0dev,>=1.33.2 in /usr/local/lib/python3.10/dist-packages (from google-api-core[grpc]!=2.0.*,!=2.1.*,!=2.10.*,!=2.2.*,!=2.3.*,!=2.4.*,!=2.5.*,!=2.6.*,!=2.7.*,!=2.8.*,!=2.9.*,<3.0.0dev,>=1.34.1->google-cloud-bigquery) (1.64.1)\n",
            "Requirement already satisfied: grpcio-status<2.0.dev0,>=1.33.2 in /usr/local/lib/python3.10/dist-packages (from google-api-core[grpc]!=2.0.*,!=2.1.*,!=2.10.*,!=2.2.*,!=2.3.*,!=2.4.*,!=2.5.*,!=2.6.*,!=2.7.*,!=2.8.*,!=2.9.*,<3.0.0dev,>=1.34.1->google-cloud-bigquery) (1.48.2)\n",
            "Requirement already satisfied: cachetools<6.0,>=2.0.0 in /usr/local/lib/python3.10/dist-packages (from google-auth<3.0.0dev,>=2.14.1->google-cloud-bigquery) (5.4.0)\n",
            "Requirement already satisfied: pyasn1-modules>=0.2.1 in /usr/local/lib/python3.10/dist-packages (from google-auth<3.0.0dev,>=2.14.1->google-cloud-bigquery) (0.4.0)\n",
            "Requirement already satisfied: rsa<5,>=3.1.4 in /usr/local/lib/python3.10/dist-packages (from google-auth<3.0.0dev,>=2.14.1->google-cloud-bigquery) (4.9)\n",
            "Requirement already satisfied: google-crc32c<2.0dev,>=1.0 in /usr/local/lib/python3.10/dist-packages (from google-resumable-media<3.0dev,>=0.6.0->google-cloud-bigquery) (1.5.0)\n",
            "Requirement already satisfied: six>=1.5 in /usr/local/lib/python3.10/dist-packages (from python-dateutil<3.0dev,>=2.7.2->google-cloud-bigquery) (1.16.0)\n",
            "Requirement already satisfied: charset-normalizer<4,>=2 in /usr/local/lib/python3.10/dist-packages (from requests<3.0.0dev,>=2.21.0->google-cloud-bigquery) (3.3.2)\n",
            "Requirement already satisfied: idna<4,>=2.5 in /usr/local/lib/python3.10/dist-packages (from requests<3.0.0dev,>=2.21.0->google-cloud-bigquery) (3.7)\n",
            "Requirement already satisfied: urllib3<3,>=1.21.1 in /usr/local/lib/python3.10/dist-packages (from requests<3.0.0dev,>=2.21.0->google-cloud-bigquery) (2.0.7)\n",
            "Requirement already satisfied: certifi>=2017.4.17 in /usr/local/lib/python3.10/dist-packages (from requests<3.0.0dev,>=2.21.0->google-cloud-bigquery) (2024.7.4)\n",
            "Requirement already satisfied: pyasn1<0.7.0,>=0.4.6 in /usr/local/lib/python3.10/dist-packages (from pyasn1-modules>=0.2.1->google-auth<3.0.0dev,>=2.14.1->google-cloud-bigquery) (0.6.0)\n",
            "Requirement already satisfied: pyspark==3.1.2 in /usr/local/lib/python3.10/dist-packages (3.1.2)\n",
            "Requirement already satisfied: py4j==0.10.9 in /usr/local/lib/python3.10/dist-packages (from pyspark==3.1.2) (0.10.9)\n"
          ]
        }
      ],
      "source": [
        "!pip install google-cloud-bigquery\n",
        "!pip install pyspark==3.1.2\n",
        "\n",
        "from google.colab import auth\n",
        "auth.authenticate_user()\n",
        "\n",
        "from google.cloud import bigquery\n",
        "import pandas as pd\n",
        "from pyspark.sql import SparkSession\n"
      ]
    },
    {
      "cell_type": "code",
      "source": [
        "# Authenticating and initializing BigQuery client\n",
        "project_id = 'river-messenger-430112-e1'\n",
        "client = bigquery.Client(project=project_id)"
      ],
      "metadata": {
        "id": "QOkEb20TJ-p9"
      },
      "execution_count": 35,
      "outputs": []
    },
    {
      "cell_type": "code",
      "source": [
        "# Querying to get interactions table\n",
        "query_policies = \"\"\"\n",
        "SELECT * FROM `river-messenger-430112-e1.Insurance_data.policies`;\n",
        "\"\"\""
      ],
      "metadata": {
        "id": "kBhh2vSfKA2A"
      },
      "execution_count": 36,
      "outputs": []
    },
    {
      "cell_type": "code",
      "source": [
        "# Executing the query and converting to a pandas DataFrame\n",
        "df_policies = client.query(query_policies).to_dataframe()"
      ],
      "metadata": {
        "id": "q_2vp50pKPz0"
      },
      "execution_count": 37,
      "outputs": []
    },
    {
      "cell_type": "code",
      "source": [
        "# Initializing SparkSession\n",
        "spark = SparkSession.builder \\\n",
        "    .appName('BigQuerySparkApp') \\\n",
        "    .getOrCreate()\n",
        "\n",
        "# Converting pandas DataFrame to Spark DataFrame\n",
        "# Using iterrows() instead of iteritems() to iterate over DataFrame rows\n",
        "spark_df_policies = spark.createDataFrame(df_policies.to_dict('records'))\n",
        "\n",
        "# Show the schema and first few rows\n",
        "spark_df_policies.printSchema()\n",
        "spark_df_policies.show(5)"
      ],
      "metadata": {
        "colab": {
          "base_uri": "https://localhost:8080/"
        },
        "id": "EGnvoHjdKWxl",
        "outputId": "2daa6470-47c3-45e1-ae17-234de6369c6a"
      },
      "execution_count": 38,
      "outputs": [
        {
          "output_type": "stream",
          "name": "stdout",
          "text": [
            "root\n",
            " |-- CustomerID: long (nullable = true)\n",
            " |-- PolicyEndDate: string (nullable = true)\n",
            " |-- PolicyID: long (nullable = true)\n",
            " |-- PolicyStartDate: string (nullable = true)\n",
            " |-- PolicyType: string (nullable = true)\n",
            " |-- PremiumAmount: double (nullable = true)\n",
            "\n",
            "+----------+-------------+--------+---------------+----------+-------------+\n",
            "|CustomerID|PolicyEndDate|PolicyID|PolicyStartDate|PolicyType|PremiumAmount|\n",
            "+----------+-------------+--------+---------------+----------+-------------+\n",
            "|         3|   2025-08-18|       3|     2023-07-07|      Auto|      3644.16|\n",
            "|         9|   2024-09-12|       9|     2023-05-27|      Auto|      4010.11|\n",
            "|        24|   2025-10-21|      24|     2023-10-04|      Auto|      3700.61|\n",
            "|        27|   2027-04-21|      27|     2021-12-18|      Auto|      1838.51|\n",
            "|        29|   2026-05-21|      29|     2023-09-01|      Auto|      1507.74|\n",
            "+----------+-------------+--------+---------------+----------+-------------+\n",
            "only showing top 5 rows\n",
            "\n"
          ]
        }
      ]
    },
    {
      "cell_type": "code",
      "source": [
        "from pyspark.sql.functions import col, count, when, isnull, mean # Import the mean function\n",
        "\n",
        "# Check for missing values in each column\n",
        "spark_df_policies.select([count(when(isnull(c), c)).alias(c) for c in spark_df_policies.columns]).show()\n",
        "\n",
        "# Handle missing values\n",
        "# Example: Fill missing PremiumAmount with the average premium\n",
        "mean_premium = spark_df_policies.select(mean(col(\"PremiumAmount\"))).collect()[0][0]\n",
        "spark_df_policies = spark_df_policies.fillna(mean_premium, subset=[\"PremiumAmount\"])\n",
        "\n",
        "# Check for inconsistencies\n",
        "# Example: Check if PolicyEndDate is always after PolicyStartDate\n",
        "inconsistent_dates = spark_df_policies.filter(col(\"PolicyEndDate\") < col(\"PolicyStartDate\"))\n",
        "inconsistent_dates.show()\n",
        "\n",
        "# Handle inconsistencies\n",
        "# Example: Drop rows with inconsistent dates\n",
        "spark_df_policies = spark_df_policies.filter(col(\"PolicyEndDate\") >= col(\"PolicyStartDate\"))"
      ],
      "metadata": {
        "colab": {
          "base_uri": "https://localhost:8080/"
        },
        "id": "izyCw56GNifO",
        "outputId": "c7fc40cb-c531-4961-a6cc-30a8d955f9d6"
      },
      "execution_count": 39,
      "outputs": [
        {
          "output_type": "stream",
          "name": "stdout",
          "text": [
            "+----------+-------------+--------+---------------+----------+-------------+\n",
            "|CustomerID|PolicyEndDate|PolicyID|PolicyStartDate|PolicyType|PremiumAmount|\n",
            "+----------+-------------+--------+---------------+----------+-------------+\n",
            "|         0|            0|       0|              0|         0|            0|\n",
            "+----------+-------------+--------+---------------+----------+-------------+\n",
            "\n",
            "+----------+-------------+--------+---------------+----------+-------------+\n",
            "|CustomerID|PolicyEndDate|PolicyID|PolicyStartDate|PolicyType|PremiumAmount|\n",
            "+----------+-------------+--------+---------------+----------+-------------+\n",
            "+----------+-------------+--------+---------------+----------+-------------+\n",
            "\n"
          ]
        }
      ]
    },
    {
      "cell_type": "code",
      "source": [
        "from pyspark.sql.functions import datediff, when, col, sum\n",
        "\n",
        "# Calculate policy duration in days\n",
        "spark_df_policies = spark_df_policies.withColumn(\"PolicyDuration\", datediff(col(\"PolicyEndDate\"), col(\"PolicyStartDate\")))\n",
        "\n",
        "# Categorize policies based on duration\n",
        "spark_df_policies = spark_df_policies.withColumn(\"DurationCategory\",\n",
        "                                              when(col(\"PolicyDuration\") <= 365, \"Short-term\")\n",
        "                                             .when((col(\"PolicyDuration\") > 365) & (col(\"PolicyDuration\") <= 730), \"Mid-term\")\n",
        "                                             .otherwise(\"Long-term\"))\n",
        "\n",
        "# Aggregate features: Total premium paid per customer\n",
        "spark_df_customer_premiums = spark_df_policies.groupBy(\"CustomerID\").agg(sum(\"PremiumAmount\").alias(\"TotalPremiumPaid\"))\n",
        "\n",
        "# Join aggregate features back to main DataFrame (if needed)\n",
        "spark_df_policies = spark_df_policies.join(spark_df_customer_premiums, \"CustomerID\")"
      ],
      "metadata": {
        "id": "KEA0mKVpPDYg"
      },
      "execution_count": 40,
      "outputs": []
    },
    {
      "cell_type": "code",
      "source": [
        "spark_df_policies = spark_df_policies.drop(\"PolicyEndDate\", \"PolicyStartDate\") #to redeuce redundancy"
      ],
      "metadata": {
        "id": "QMXLbPFlPsJe"
      },
      "execution_count": 47,
      "outputs": []
    },
    {
      "cell_type": "code",
      "source": [
        "spark_df_policies.show(5)"
      ],
      "metadata": {
        "colab": {
          "base_uri": "https://localhost:8080/"
        },
        "id": "0CqOH7AvPIw-",
        "outputId": "ca823735-6254-4896-bad2-7a1e9e43741a"
      },
      "execution_count": 48,
      "outputs": [
        {
          "output_type": "stream",
          "name": "stdout",
          "text": [
            "+----------+--------+----------+-------------+--------------+----------------+----------------+\n",
            "|CustomerID|PolicyID|PolicyType|PremiumAmount|PolicyDuration|DurationCategory|TotalPremiumPaid|\n",
            "+----------+--------+----------+-------------+--------------+----------------+----------------+\n",
            "|        26|      26|      Life|       1306.6|          1274|       Long-term|          1306.6|\n",
            "|        29|      29|      Auto|      1507.74|           993|       Long-term|         1507.74|\n",
            "|       474|     474|      Life|       3890.9|          2456|       Long-term|          3890.9|\n",
            "|       964|     964|      Home|      4950.97|           420|        Mid-term|         4950.97|\n",
            "|      1677|    1677|      Auto|       4742.6|          3033|       Long-term|          4742.6|\n",
            "+----------+--------+----------+-------------+--------------+----------------+----------------+\n",
            "only showing top 5 rows\n",
            "\n"
          ]
        }
      ]
    },
    {
      "cell_type": "code",
      "source": [
        "from pyspark.sql.functions import count\n",
        "import matplotlib.pyplot as plt\n",
        "import pandas as pd\n",
        "\n",
        "# Count the occurrences of each policy type\n",
        "policy_type_counts = spark_df_policies.groupBy(\"PolicyType\").agg(count(\"*\").alias(\"Count\")).orderBy(\"Count\", ascending=False)\n",
        "\n",
        "# Display the results\n",
        "policy_type_counts.show()\n",
        "\n",
        "# Convert PySpark DataFrame to Pandas DataFrame for plotting\n",
        "pandas_df = policy_type_counts.toPandas()\n",
        "\n",
        "# Create the pie chart\n",
        "plt.pie(pandas_df['Count'], labels=pandas_df['PolicyType'], autopct='%1.1f%%', startangle=90)\n",
        "plt.title('Distribution of Policy Types')\n",
        "plt.axis('equal')  # Equal aspect ratio ensures that pie is drawn as a circle.\n",
        "plt.show()"
      ],
      "metadata": {
        "colab": {
          "base_uri": "https://localhost:8080/",
          "height": 584
        },
        "id": "JgOwgrP4T4yJ",
        "outputId": "21ff3ec0-e2f3-4274-d0b4-00017408f10d"
      },
      "execution_count": 52,
      "outputs": [
        {
          "output_type": "stream",
          "name": "stdout",
          "text": [
            "+----------+-----+\n",
            "|PolicyType|Count|\n",
            "+----------+-----+\n",
            "|    Health|  511|\n",
            "|      Life|  500|\n",
            "|      Home|  497|\n",
            "|      Auto|  496|\n",
            "+----------+-----+\n",
            "\n"
          ]
        },
        {
          "output_type": "display_data",
          "data": {
            "text/plain": [
              "<Figure size 640x480 with 1 Axes>"
            ],
            "image/png": "[encoded data removed]"
          },
          "metadata": {}
        }
      ]
    },
    {
      "cell_type": "code",
      "source": [
        "from pyspark.sql.functions import mean, stddev, min, max\n",
        "\n",
        "# Calculate summary statistics\n",
        "premium_summary = spark_df_policies.select(\n",
        "    mean(\"PremiumAmount\").alias(\"Mean\"),\n",
        "    stddev(\"PremiumAmount\").alias(\"StdDev\"),\n",
        "    min(\"PremiumAmount\").alias(\"Min\"),\n",
        "    max(\"PremiumAmount\").alias(\"Max\")\n",
        ").collect()[0]\n",
        "\n",
        "print(\"Premium Amount Summary:\")\n",
        "print(f\"Mean: {premium_summary['Mean']}\")\n",
        "print(f\"Standard Deviation: {premium_summary['StdDev']}\")\n",
        "print(f\"Minimum: {premium_summary['Min']}\")\n",
        "print(f\"Maximum: {premium_summary['Max']}\")\n",
        "\n",
        "# (Optional) Visualize with a histogram\n",
        "import seaborn as sns\n",
        "\n",
        "# Sample the data for visualization (if the dataset is large)\n",
        "sample_df = spark_df_policies.sample(fraction=0.1, withReplacement=False).select(\"PremiumAmount\").toPandas()\n",
        "\n",
        "sns.histplot(sample_df['PremiumAmount'], kde=True)\n",
        "plt.xlabel('Premium Amount')\n",
        "plt.ylabel('Frequency')\n",
        "plt.title('Distribution of Premium Amounts')\n",
        "plt.show()"
      ],
      "metadata": {
        "colab": {
          "base_uri": "https://localhost:8080/",
          "height": 559
        },
        "id": "ytqQYss7VTLO",
        "outputId": "b156b904-7b0c-435f-d988-37cd20efac50"
      },
      "execution_count": 50,
      "outputs": [
        {
          "output_type": "stream",
          "name": "stdout",
          "text": [
            "Premium Amount Summary:\n",
            "Mean: 2988.8970359281425\n",
            "Standard Deviation: 1154.4219822188297\n",
            "Minimum: 1005.08\n",
            "Maximum: 4998.18\n"
          ]
        },
        {
          "output_type": "display_data",
          "data": {
            "text/plain": [
              "<Figure size 640x480 with 1 Axes>"
            ],
            "image/png": "[encoded data removed]"
          },
          "metadata": {}
        }
      ]
    },
    {
      "cell_type": "code",
      "source": [
        "spark_df_policies = spark_df_policies.drop(\"PolicyEndDate\", \"PolicyStartDate\") #to redeuce redundancy"
      ],
      "metadata": {
        "id": "405UJJ4vWWL3"
      },
      "execution_count": null,
      "outputs": []
    }
  ]
}