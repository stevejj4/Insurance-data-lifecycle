{
  "nbformat": 4,
  "nbformat_minor": 0,
  "metadata": {
    "colab": {
      "provenance": [],
      "authorship_tag": "ABX9TyPfi/iRrO7l0x7Tc+/cLYl6",
      "include_colab_link": true
    },
    "kernelspec": {
      "name": "python3",
      "display_name": "Python 3"
    },
    "language_info": {
      "name": "python"
    }
  },
  "cells": [
    {
      "cell_type": "markdown",
      "metadata": {
        "id": "view-in-github",
        "colab_type": "text"
      },
      "source": [
        "<a href=\"https://colab.research.google.com/github/stevejj4/Insurance-data-lifecycle/blob/main/Policies_EDA.ipynb\" target=\"_parent\"><img src=\"https://colab.research.google.com/assets/colab-badge.svg\" alt=\"Open In Colab\"/></a>"
      ]
    },
    {
      "cell_type": "code",
      "execution_count": 40,
      "metadata": {
        "colab": {
          "base_uri": "https://localhost:8080/"
        },
        "id": "skNyN8q3JnmV",
        "outputId": "d5aacf03-98aa-4e64-f468-70491fa62515"
      },
      "outputs": [
        {
          "output_type": "stream",
          "name": "stdout",
          "text": [
            "Requirement already satisfied: google-cloud-bigquery in /usr/local/lib/python3.10/dist-packages (3.25.0)\n",
            "Requirement already satisfied: google-api-core!=2.0.*,!=2.1.*,!=2.10.*,!=2.2.*,!=2.3.*,!=2.4.*,!=2.5.*,!=2.6.*,!=2.7.*,!=2.8.*,!=2.9.*,<3.0.0dev,>=1.34.1 in /usr/local/lib/python3.10/dist-packages (from google-api-core[grpc]!=2.0.*,!=2.1.*,!=2.10.*,!=2.2.*,!=2.3.*,!=2.4.*,!=2.5.*,!=2.6.*,!=2.7.*,!=2.8.*,!=2.9.*,<3.0.0dev,>=1.34.1->google-cloud-bigquery) (2.19.1)\n",
            "Requirement already satisfied: google-auth<3.0.0dev,>=2.14.1 in /usr/local/lib/python3.10/dist-packages (from google-cloud-bigquery) (2.27.0)\n",
            "Requirement already satisfied: google-cloud-core<3.0.0dev,>=1.6.0 in /usr/local/lib/python3.10/dist-packages (from google-cloud-bigquery) (2.4.1)\n",
            "Requirement already satisfied: google-resumable-media<3.0dev,>=0.6.0 in /usr/local/lib/python3.10/dist-packages (from google-cloud-bigquery) (2.7.1)\n",
            "Requirement already satisfied: packaging>=20.0.0 in /usr/local/lib/python3.10/dist-packages (from google-cloud-bigquery) (24.1)\n",
            "Requirement already satisfied: python-dateutil<3.0dev,>=2.7.2 in /usr/local/lib/python3.10/dist-packages (from google-cloud-bigquery) (2.8.2)\n",
            "Requirement already satisfied: requests<3.0.0dev,>=2.21.0 in /usr/local/lib/python3.10/dist-packages (from google-cloud-bigquery) (2.31.0)\n",
            "Requirement already satisfied: googleapis-common-protos<2.0.dev0,>=1.56.2 in /usr/local/lib/python3.10/dist-packages (from google-api-core!=2.0.*,!=2.1.*,!=2.10.*,!=2.2.*,!=2.3.*,!=2.4.*,!=2.5.*,!=2.6.*,!=2.7.*,!=2.8.*,!=2.9.*,<3.0.0dev,>=1.34.1->google-api-core[grpc]!=2.0.*,!=2.1.*,!=2.10.*,!=2.2.*,!=2.3.*,!=2.4.*,!=2.5.*,!=2.6.*,!=2.7.*,!=2.8.*,!=2.9.*,<3.0.0dev,>=1.34.1->google-cloud-bigquery) (1.63.2)\n",
            "Requirement already satisfied: protobuf!=3.20.0,!=3.20.1,!=4.21.0,!=4.21.1,!=4.21.2,!=4.21.3,!=4.21.4,!=4.21.5,<6.0.0.dev0,>=3.19.5 in /usr/local/lib/python3.10/dist-packages (from google-api-core!=2.0.*,!=2.1.*,!=2.10.*,!=2.2.*,!=2.3.*,!=2.4.*,!=2.5.*,!=2.6.*,!=2.7.*,!=2.8.*,!=2.9.*,<3.0.0dev,>=1.34.1->google-api-core[grpc]!=2.0.*,!=2.1.*,!=2.10.*,!=2.2.*,!=2.3.*,!=2.4.*,!=2.5.*,!=2.6.*,!=2.7.*,!=2.8.*,!=2.9.*,<3.0.0dev,>=1.34.1->google-cloud-bigquery) (3.20.3)\n",
            "Requirement already satisfied: proto-plus<2.0.0dev,>=1.22.3 in /usr/local/lib/python3.10/dist-packages (from google-api-core!=2.0.*,!=2.1.*,!=2.10.*,!=2.2.*,!=2.3.*,!=2.4.*,!=2.5.*,!=2.6.*,!=2.7.*,!=2.8.*,!=2.9.*,<3.0.0dev,>=1.34.1->google-api-core[grpc]!=2.0.*,!=2.1.*,!=2.10.*,!=2.2.*,!=2.3.*,!=2.4.*,!=2.5.*,!=2.6.*,!=2.7.*,!=2.8.*,!=2.9.*,<3.0.0dev,>=1.34.1->google-cloud-bigquery) (1.24.0)\n",
            "Requirement already satisfied: grpcio<2.0dev,>=1.33.2 in /usr/local/lib/python3.10/dist-packages (from google-api-core[grpc]!=2.0.*,!=2.1.*,!=2.10.*,!=2.2.*,!=2.3.*,!=2.4.*,!=2.5.*,!=2.6.*,!=2.7.*,!=2.8.*,!=2.9.*,<3.0.0dev,>=1.34.1->google-cloud-bigquery) (1.64.1)\n",
            "Requirement already satisfied: grpcio-status<2.0.dev0,>=1.33.2 in /usr/local/lib/python3.10/dist-packages (from google-api-core[grpc]!=2.0.*,!=2.1.*,!=2.10.*,!=2.2.*,!=2.3.*,!=2.4.*,!=2.5.*,!=2.6.*,!=2.7.*,!=2.8.*,!=2.9.*,<3.0.0dev,>=1.34.1->google-cloud-bigquery) (1.48.2)\n",
            "Requirement already satisfied: cachetools<6.0,>=2.0.0 in /usr/local/lib/python3.10/dist-packages (from google-auth<3.0.0dev,>=2.14.1->google-cloud-bigquery) (5.4.0)\n",
            "Requirement already satisfied: pyasn1-modules>=0.2.1 in /usr/local/lib/python3.10/dist-packages (from google-auth<3.0.0dev,>=2.14.1->google-cloud-bigquery) (0.4.0)\n",
            "Requirement already satisfied: rsa<5,>=3.1.4 in /usr/local/lib/python3.10/dist-packages (from google-auth<3.0.0dev,>=2.14.1->google-cloud-bigquery) (4.9)\n",
            "Requirement already satisfied: google-crc32c<2.0dev,>=1.0 in /usr/local/lib/python3.10/dist-packages (from google-resumable-media<3.0dev,>=0.6.0->google-cloud-bigquery) (1.5.0)\n",
            "Requirement already satisfied: six>=1.5 in /usr/local/lib/python3.10/dist-packages (from python-dateutil<3.0dev,>=2.7.2->google-cloud-bigquery) (1.16.0)\n",
            "Requirement already satisfied: charset-normalizer<4,>=2 in /usr/local/lib/python3.10/dist-packages (from requests<3.0.0dev,>=2.21.0->google-cloud-bigquery) (3.3.2)\n",
            "Requirement already satisfied: idna<4,>=2.5 in /usr/local/lib/python3.10/dist-packages (from requests<3.0.0dev,>=2.21.0->google-cloud-bigquery) (3.7)\n",
            "Requirement already satisfied: urllib3<3,>=1.21.1 in /usr/local/lib/python3.10/dist-packages (from requests<3.0.0dev,>=2.21.0->google-cloud-bigquery) (2.0.7)\n",
            "Requirement already satisfied: certifi>=2017.4.17 in /usr/local/lib/python3.10/dist-packages (from requests<3.0.0dev,>=2.21.0->google-cloud-bigquery) (2024.7.4)\n",
            "Requirement already satisfied: pyasn1<0.7.0,>=0.4.6 in /usr/local/lib/python3.10/dist-packages (from pyasn1-modules>=0.2.1->google-auth<3.0.0dev,>=2.14.1->google-cloud-bigquery) (0.6.0)\n",
            "Requirement already satisfied: pyspark==3.1.2 in /usr/local/lib/python3.10/dist-packages (3.1.2)\n",
            "Requirement already satisfied: py4j==0.10.9 in /usr/local/lib/python3.10/dist-packages (from pyspark==3.1.2) (0.10.9)\n"
          ]
        }
      ],
      "source": [
        "!pip install google-cloud-bigquery\n",
        "!pip install pyspark==3.1.2\n",
        "\n",
        "from google.colab import auth\n",
        "auth.authenticate_user()\n",
        "\n",
        "from google.cloud import bigquery\n",
        "import pandas as pd\n",
        "from pyspark.sql import SparkSession\n"
      ]
    },
    {
      "cell_type": "code",
      "source": [
        "# Authenticating and initializing BigQuery client\n",
        "project_id = 'river-messenger-430112-e1'\n",
        "client = bigquery.Client(project=project_id)"
      ],
      "metadata": {
        "id": "QOkEb20TJ-p9"
      },
      "execution_count": 41,
      "outputs": []
    },
    {
      "cell_type": "code",
      "source": [
        "# Querying to get interactions table\n",
        "query_policies = \"\"\"\n",
        "SELECT * FROM `river-messenger-430112-e1.Insurance_data.policies`;\n",
        "\"\"\""
      ],
      "metadata": {
        "id": "kBhh2vSfKA2A"
      },
      "execution_count": 42,
      "outputs": []
    },
    {
      "cell_type": "code",
      "source": [
        "# Executing the query and converting to a pandas DataFrame\n",
        "df_policies = client.query(query_policies).to_dataframe()"
      ],
      "metadata": {
        "id": "q_2vp50pKPz0"
      },
      "execution_count": 43,
      "outputs": []
    },
    {
      "cell_type": "code",
      "source": [
        "# Initializing SparkSession\n",
        "spark = SparkSession.builder \\\n",
        "    .appName('BigQuerySparkApp') \\\n",
        "    .getOrCreate()\n",
        "\n",
        "# Converting pandas DataFrame to Spark DataFrame\n",
        "# Using iterrows() instead of iteritems() to iterate over DataFrame rows\n",
        "spark_df_policies = spark.createDataFrame(df_policies.to_dict('records'))\n",
        "\n",
        "# Show the schema and first few rows\n",
        "spark_df_policies.printSchema()\n",
        "spark_df_policies.show(5)"
      ],
      "metadata": {
        "colab": {
          "base_uri": "https://localhost:8080/"
        },
        "id": "EGnvoHjdKWxl",
        "outputId": "57466562-6984-47c8-cdd9-d020aaeaef61"
      },
      "execution_count": 44,
      "outputs": [
        {
          "output_type": "stream",
          "name": "stdout",
          "text": [
            "root\n",
            " |-- CustomerID: long (nullable = true)\n",
            " |-- PolicyEndDate: string (nullable = true)\n",
            " |-- PolicyID: long (nullable = true)\n",
            " |-- PolicyStartDate: string (nullable = true)\n",
            " |-- PolicyType: string (nullable = true)\n",
            " |-- PremiumAmount: double (nullable = true)\n",
            "\n",
            "+----------+-------------+--------+---------------+----------+-------------+\n",
            "|CustomerID|PolicyEndDate|PolicyID|PolicyStartDate|PolicyType|PremiumAmount|\n",
            "+----------+-------------+--------+---------------+----------+-------------+\n",
            "|         3|   2025-08-18|       3|     2023-07-07|      Auto|      3644.16|\n",
            "|         9|   2024-09-12|       9|     2023-05-27|      Auto|      4010.11|\n",
            "|        24|   2025-10-21|      24|     2023-10-04|      Auto|      3700.61|\n",
            "|        27|   2027-04-21|      27|     2021-12-18|      Auto|      1838.51|\n",
            "|        29|   2026-05-21|      29|     2023-09-01|      Auto|      1507.74|\n",
            "+----------+-------------+--------+---------------+----------+-------------+\n",
            "only showing top 5 rows\n",
            "\n"
          ]
        }
      ]
    },
    {
      "cell_type": "code",
      "source": [
        "from pyspark.sql.functions import col, count, when, isnull, mean # Import the mean function\n",
        "\n",
        "# Check for missing values in each column\n",
        "spark_df_policies.select([count(when(isnull(c), c)).alias(c) for c in spark_df_policies.columns]).show()\n",
        "\n",
        "# Handle missing values\n",
        "# Example: Fill missing PremiumAmount with the average premium\n",
        "mean_premium = spark_df_policies.select(mean(col(\"PremiumAmount\"))).collect()[0][0]\n",
        "spark_df_policies = spark_df_policies.fillna(mean_premium, subset=[\"PremiumAmount\"])\n",
        "\n",
        "# Check for inconsistencies\n",
        "# Example: Check if PolicyEndDate is always after PolicyStartDate\n",
        "inconsistent_dates = spark_df_policies.filter(col(\"PolicyEndDate\") < col(\"PolicyStartDate\"))\n",
        "inconsistent_dates.show()\n",
        "\n",
        "# Handle inconsistencies\n",
        "# Example: Drop rows with inconsistent dates\n",
        "spark_df_policies = spark_df_policies.filter(col(\"PolicyEndDate\") >= col(\"PolicyStartDate\"))"
      ],
      "metadata": {
        "colab": {
          "base_uri": "https://localhost:8080/"
        },
        "id": "izyCw56GNifO",
        "outputId": "f4347df0-daf3-4bd8-b0da-b1744f0d28fc"
      },
      "execution_count": 45,
      "outputs": [
        {
          "output_type": "stream",
          "name": "stdout",
          "text": [
            "+----------+-------------+--------+---------------+----------+-------------+\n",
            "|CustomerID|PolicyEndDate|PolicyID|PolicyStartDate|PolicyType|PremiumAmount|\n",
            "+----------+-------------+--------+---------------+----------+-------------+\n",
            "|         0|            0|       0|              0|         0|            0|\n",
            "+----------+-------------+--------+---------------+----------+-------------+\n",
            "\n",
            "+----------+-------------+--------+---------------+----------+-------------+\n",
            "|CustomerID|PolicyEndDate|PolicyID|PolicyStartDate|PolicyType|PremiumAmount|\n",
            "+----------+-------------+--------+---------------+----------+-------------+\n",
            "+----------+-------------+--------+---------------+----------+-------------+\n",
            "\n"
          ]
        }
      ]
    },
    {
      "cell_type": "code",
      "source": [
        "from pyspark.sql.functions import avg, datediff, to_date\n",
        "\n",
        "# Calculate Policy Duration in days and create a new column\n",
        "spark_df_policies = spark_df_policies.withColumn(\n",
        "    \"PolicyDuration\",\n",
        "    datediff(to_date(col(\"PolicyEndDate\")), to_date(col(\"PolicyStartDate\")))\n",
        ")\n",
        "\n",
        "# Create a new column 'DurationCategory' based on 'PolicyDuration'\n",
        "spark_df_policies = spark_df_policies.withColumn(\n",
        "    \"DurationCategory\",\n",
        "    when(col(\"PolicyDuration\") <= 365, \"Short Term\")\n",
        "    .when((col(\"PolicyDuration\") > 365) & (col(\"PolicyDuration\") <= 730), \"Medium Term\")\n",
        "    .otherwise(\"Long Term\")\n",
        ")\n",
        "\n",
        "# Now you can calculate average PremiumAmount for each DurationCategory\n",
        "avg_premiums = spark_df_policies.groupBy(\"DurationCategory\").agg(avg(\"PremiumAmount\").alias(\"AveragePremium\"))\n",
        "\n",
        "# Display the results\n",
        "avg_premiums.show()\n",
        "correlation = spark_df_policies.stat.corr(\"PremiumAmount\", \"PolicyDuration\")\n",
        "print(f\"Correlation between PremiumAmount and PolicyDuration: {correlation}\")"
      ],
      "metadata": {
        "id": "KEA0mKVpPDYg",
        "colab": {
          "base_uri": "https://localhost:8080/"
        },
        "outputId": "702d2e02-3a45-413b-c813-dc63b622f285"
      },
      "execution_count": 49,
      "outputs": [
        {
          "output_type": "stream",
          "name": "stdout",
          "text": [
            "+----------------+------------------+\n",
            "|DurationCategory|    AveragePremium|\n",
            "+----------------+------------------+\n",
            "|       Long Term|2988.0406402604453|\n",
            "|     Medium Term|2998.5193333333345|\n",
            "|      Short Term| 2999.230243902439|\n",
            "+----------------+------------------+\n",
            "\n",
            "Correlation between PremiumAmount and PolicyDuration: -0.01631009680957845\n"
          ]
        }
      ]
    },
    {
      "cell_type": "code",
      "source": [
        "from pyspark.ml.feature import StringIndexer\n",
        "from pyspark.sql.functions import corr\n",
        "\n",
        "# Encode DurationCategory as a numerical feature\n",
        "indexer = StringIndexer(inputCol=\"DurationCategory\", outputCol=\"DurationIndex\")\n",
        "spark_df_policies = indexer.fit(spark_df_policies).transform(spark_df_policies) # Uncomment this line to create the 'DurationIndex' column\n",
        "\n",
        "# Calculate correlation between DurationIndex and PremiumAmount\n",
        "correlation = spark_df_policies.select(corr(\"DurationIndex\", \"PremiumAmount\")).collect()[0][0]\n",
        "\n",
        "print(f\"Correlation between DurationCategory and PremiumAmount: {correlation}\")"
      ],
      "metadata": {
        "id": "QMXLbPFlPsJe",
        "colab": {
          "base_uri": "https://localhost:8080/"
        },
        "outputId": "1bcd4f18-1d01-42b8-f317-bbe94345bcde"
      },
      "execution_count": 51,
      "outputs": [
        {
          "output_type": "stream",
          "name": "stdout",
          "text": [
            "Correlation between DurationCategory and PremiumAmount: 0.002386459884876911\n"
          ]
        }
      ]
    },
    {
      "cell_type": "code",
      "source": [
        "spark_df_policies.show(5)"
      ],
      "metadata": {
        "colab": {
          "base_uri": "https://localhost:8080/"
        },
        "id": "0CqOH7AvPIw-",
        "outputId": "e32f21bf-6ffc-4c62-9bd9-c46b9b0063c6"
      },
      "execution_count": 52,
      "outputs": [
        {
          "output_type": "stream",
          "name": "stdout",
          "text": [
            "+----------+-------------+--------+---------------+----------+-------------+--------------+----------------+-------------+\n",
            "|CustomerID|PolicyEndDate|PolicyID|PolicyStartDate|PolicyType|PremiumAmount|PolicyDuration|DurationCategory|DurationIndex|\n",
            "+----------+-------------+--------+---------------+----------+-------------+--------------+----------------+-------------+\n",
            "|         3|   2025-08-18|       3|     2023-07-07|      Auto|      3644.16|           773|       Long Term|          0.0|\n",
            "|         9|   2024-09-12|       9|     2023-05-27|      Auto|      4010.11|           474|     Medium Term|          1.0|\n",
            "|        24|   2025-10-21|      24|     2023-10-04|      Auto|      3700.61|           748|       Long Term|          0.0|\n",
            "|        27|   2027-04-21|      27|     2021-12-18|      Auto|      1838.51|          1950|       Long Term|          0.0|\n",
            "|        29|   2026-05-21|      29|     2023-09-01|      Auto|      1507.74|           993|       Long Term|          0.0|\n",
            "+----------+-------------+--------+---------------+----------+-------------+--------------+----------------+-------------+\n",
            "only showing top 5 rows\n",
            "\n"
          ]
        }
      ]
    },
    {
      "cell_type": "code",
      "source": [
        "from pyspark.sql.functions import count\n",
        "import matplotlib.pyplot as plt\n",
        "import pandas as pd\n",
        "\n",
        "# Count the occurrences of each policy type\n",
        "policy_type_counts = spark_df_policies.groupBy(\"PolicyType\").agg(count(\"*\").alias(\"Count\")).orderBy(\"Count\", ascending=False)\n",
        "\n",
        "# Display the results\n",
        "policy_type_counts.show()\n",
        "\n",
        "# Convert PySpark DataFrame to Pandas DataFrame for plotting\n",
        "pandas_df = policy_type_counts.toPandas()\n",
        "\n",
        "# Create the pie chart\n",
        "plt.pie(pandas_df['Count'], labels=pandas_df['PolicyType'], autopct='%1.1f%%', startangle=90)\n",
        "plt.title('Distribution of Policy Types')\n",
        "plt.axis('equal')  # Equal aspect ratio ensures that pie is drawn as a circle.\n",
        "plt.show()"
      ],
      "metadata": {
        "colab": {
          "base_uri": "https://localhost:8080/",
          "height": 584
        },
        "id": "JgOwgrP4T4yJ",
        "outputId": "c1347ebe-acf4-42dd-cffe-4d3a66ff83d9"
      },
      "execution_count": 53,
      "outputs": [
        {
          "output_type": "stream",
          "name": "stdout",
          "text": [
            "+----------+-----+\n",
            "|PolicyType|Count|\n",
            "+----------+-----+\n",
            "|    Health|  511|\n",
            "|      Life|  500|\n",
            "|      Home|  497|\n",
            "|      Auto|  496|\n",
            "+----------+-----+\n",
            "\n"
          ]
        },
        {
          "output_type": "display_data",
          "data": {
            "text/plain": [
              "<Figure size 640x480 with 1 Axes>"
            ],
            "image/png": "[encoded data removed]"
          },
          "metadata": {}
        }
      ]
    },
    {
      "cell_type": "code",
      "source": [
        "from pyspark.sql.functions import skewness, kurtosis\n",
        "\n",
        "# Calculate skewness and kurtosis\n",
        "skewness_value = spark_df_policies.select(skewness(\"PremiumAmount\")).collect()[0][0]\n",
        "kurtosis_value = spark_df_policies.select(kurtosis(\"PremiumAmount\")).collect()[0][0]\n",
        "\n",
        "print(f\"Skewness: {skewness_value}\")\n",
        "print(f\"Kurtosis: {kurtosis_value}\")"
      ],
      "metadata": {
        "colab": {
          "base_uri": "https://localhost:8080/"
        },
        "id": "3VVrdkGbIWtZ",
        "outputId": "f416ca2e-c695-47f0-a7dc-a201d6f9e19f"
      },
      "execution_count": 54,
      "outputs": [
        {
          "output_type": "stream",
          "name": "stdout",
          "text": [
            "Skewness: 0.02686222297438961\n",
            "Kurtosis: -1.2099592718100038\n"
          ]
        }
      ]
    },
    {
      "cell_type": "code",
      "source": [
        "import matplotlib.pyplot as plt\n",
        "import seaborn as sns\n",
        "\n",
        "# Convert PySpark DataFrame to Pandas DataFrame for plotting\n",
        "pandas_df = spark_df_policies.select(\"PremiumAmount\").toPandas()\n",
        "\n",
        "# Create the histogram\n",
        "sns.histplot(pandas_df['PremiumAmount'], kde=True)\n",
        "plt.xlabel('Premium Amount')\n",
        "plt.ylabel('Frequency')\n",
        "plt.title('Distribution of Premium Amounts')\n",
        "plt.show()\n",
        "\n",
        "# Create a Q-Q plot\n",
        "import statsmodels.api as sm\n",
        "sm.qqplot(pandas_df['PremiumAmount'], line='s')\n",
        "plt.title('Q-Q Plot of Premium Amounts')\n",
        "plt.show()"
      ],
      "metadata": {
        "colab": {
          "base_uri": "https://localhost:8080/",
          "height": 927
        },
        "id": "ytqQYss7VTLO",
        "outputId": "9f8669e2-446b-491c-cc62-332864026331"
      },
      "execution_count": 55,
      "outputs": [
        {
          "output_type": "display_data",
          "data": {
            "text/plain": [
              "<Figure size 640x480 with 1 Axes>"
            ],
            "image/png": "[encoded data removed]"
          },
          "metadata": {}
        },
        {
          "output_type": "display_data",
          "data": {
            "text/plain": [
              "<Figure size 640x480 with 1 Axes>"
            ],
            "image/png": "[encoded data removed]"
          },
          "metadata": {}
        }
      ]
    },
    {
      "cell_type": "code",
      "source": [
        "from pyspark.ml.feature import StringIndexer\n",
        "\n",
        "# Create a StringIndexer object\n",
        "indexer = StringIndexer(inputCol=\"PolicyType\", outputCol=\"PolicyTypeIndex\")\n",
        "\n",
        "# Fit the indexer to the data and transform the DataFrame\n",
        "spark_df_policies = indexer.fit(spark_df_policies).transform(spark_df_policies)\n",
        "\n",
        "# Show the updated DataFrame\n",
        "spark_df_policies.show(5)"
      ],
      "metadata": {
        "colab": {
          "base_uri": "https://localhost:8080/"
        },
        "id": "0uz51ClKPFEe",
        "outputId": "803d4a57-0448-497f-c940-d74856c7b210"
      },
      "execution_count": 56,
      "outputs": [
        {
          "output_type": "stream",
          "name": "stdout",
          "text": [
            "+----------+-------------+--------+---------------+----------+-------------+--------------+----------------+-------------+---------------+\n",
            "|CustomerID|PolicyEndDate|PolicyID|PolicyStartDate|PolicyType|PremiumAmount|PolicyDuration|DurationCategory|DurationIndex|PolicyTypeIndex|\n",
            "+----------+-------------+--------+---------------+----------+-------------+--------------+----------------+-------------+---------------+\n",
            "|         3|   2025-08-18|       3|     2023-07-07|      Auto|      3644.16|           773|       Long Term|          0.0|            3.0|\n",
            "|         9|   2024-09-12|       9|     2023-05-27|      Auto|      4010.11|           474|     Medium Term|          1.0|            3.0|\n",
            "|        24|   2025-10-21|      24|     2023-10-04|      Auto|      3700.61|           748|       Long Term|          0.0|            3.0|\n",
            "|        27|   2027-04-21|      27|     2021-12-18|      Auto|      1838.51|          1950|       Long Term|          0.0|            3.0|\n",
            "|        29|   2026-05-21|      29|     2023-09-01|      Auto|      1507.74|           993|       Long Term|          0.0|            3.0|\n",
            "+----------+-------------+--------+---------------+----------+-------------+--------------+----------------+-------------+---------------+\n",
            "only showing top 5 rows\n",
            "\n"
          ]
        }
      ]
    },
    {
      "cell_type": "code",
      "source": [
        "# Convert PySpark DataFrame to Pandas DataFrame\n",
        "pandas_df = spark_df_policies.select(\"DurationIndex\", \"PolicyTypeIndex\", \"PremiumAmount\").toPandas()"
      ],
      "metadata": {
        "id": "fRE0HecoUQnV"
      },
      "execution_count": 57,
      "outputs": []
    },
    {
      "cell_type": "code",
      "source": [
        "from google.cloud import bigquery\n",
        "\n",
        "# Initialize BigQuery client\n",
        "project_id = 'river-messenger-430112-e1'\n",
        "client = bigquery.Client(project=project_id)\n",
        "\n",
        "# Define the schema for your BigQuery table\n",
        "schema = [\n",
        "    bigquery.SchemaField(\"DurationIndex\", \"INTEGER\"),\n",
        "    bigquery.SchemaField(\"PolicyTypeIndex\", \"INTEGER\"),\n",
        "    bigquery.SchemaField(\"PremiumAmount\", \"FLOAT\"),\n",
        "    # Add other relevant columns and their data types\n",
        "]\n",
        "\n",
        "# Set the table ID (dataset.table_name)\n",
        "dataset_id = 'Insurance_data'\n",
        "# Construct the fully-qualified table ID\n",
        "table_id = f\"{project_id}.{dataset_id}.ML_team\"\n",
        "\n",
        "# Create the BigQuery table\n",
        "table = bigquery.Table(table_id, schema=schema)\n",
        "table = client.create_table(table)  # API request to create the table\n",
        "print(f\"Created table {table.project}.{table.dataset_id}.{table.table_id}\")\n",
        "\n",
        "# Load the pandas DataFrame into the BigQuery table\n",
        "job_config = bigquery.LoadJobConfig(schema=schema)\n",
        "job = client.load_table_from_dataframe(pandas_df, table_id, job_config=job_config)\n",
        "job.result()  # Wait for the job to complete\n",
        "\n",
        "print(f\"Loaded {pandas_df.shape[0]} rows and {pandas_df.shape[1]} columns to {table_id}\")"
      ],
      "metadata": {
        "colab": {
          "base_uri": "https://localhost:8080/"
        },
        "id": "V26tBLZeSVOI",
        "outputId": "872a3e25-3eda-4236-d28b-bbc18adba7e6"
      },
      "execution_count": 58,
      "outputs": [
        {
          "output_type": "stream",
          "name": "stdout",
          "text": [
            "Created table river-messenger-430112-e1.Insurance_data.ML_team\n",
            "Loaded 2004 rows and 3 columns to river-messenger-430112-e1.Insurance_data.ML_team\n"
          ]
        }
      ]
    },
    {
      "cell_type": "code",
      "source": [
        "\n",
        "\n",
        "# Import necessary libraries\n",
        "from sklearn.model_selection import train_test_split\n",
        "from sklearn.linear_model import LinearRegression\n",
        "from sklearn.metrics import mean_squared_error\n",
        "\n",
        "# Prepare features and target variable\n",
        "X = pandas_df[[\"DurationIndex\", \"PolicyTypeIndex\"]]\n",
        "y = pandas_df[\"PremiumAmount\"]\n",
        "\n",
        "# Split the data into training and testing sets\n",
        "X_train, X_test, y_train, y_test = train_test_split(X, y, test_size=0.2, random_state=42)\n",
        "\n",
        "# Create a LinearRegression model\n",
        "model = LinearRegression()\n",
        "\n",
        "# Fit the model to the training data\n",
        "model.fit(X_train, y_train)\n",
        "\n",
        "# Make predictions on the testing data\n",
        "y_pred = model.predict(X_test)\n",
        "\n",
        "# Evaluate the model\n",
        "rmse = mean_squared_error(y_test, y_pred, squared=False)\n",
        "print(f\"Root Mean Squared Error (RMSE): {rmse}\")"
      ],
      "metadata": {
        "colab": {
          "base_uri": "https://localhost:8080/"
        },
        "id": "cPmzM8RhPiIJ",
        "outputId": "edb60e36-7d7e-45c0-e9a8-156d58ab1c9c"
      },
      "execution_count": 59,
      "outputs": [
        {
          "output_type": "stream",
          "name": "stdout",
          "text": [
            "Root Mean Squared Error (RMSE): 1172.1435775272398\n"
          ]
        }
      ]
    },
    {
      "cell_type": "code",
      "source": [
        "import numpy as np\n",
        "\n",
        "# Define a tolerance threshold (e.g., 10% of the average premium)\n",
        "tolerance = 0.1 * np.mean(y)\n",
        "\n",
        "# Calculate absolute differences between predicted and actual values\n",
        "errors = np.abs(y_test - y_pred)\n",
        "\n",
        "# Count predictions within the tolerance\n",
        "num_accurate = np.sum(errors <= tolerance)\n",
        "\n",
        "# Calculate the percentage of accurate predictions\n",
        "total_predictions = len(y_test)\n",
        "accuracy_percentage = (num_accurate / total_predictions) * 100\n",
        "\n",
        "print(f\"Number of predictions within tolerance: {num_accurate}\")\n",
        "print(f\"Percentage of accurate predictions: {accuracy_percentage:.2f}%\")"
      ],
      "metadata": {
        "colab": {
          "base_uri": "https://localhost:8080/"
        },
        "id": "mssGNKFjP9KA",
        "outputId": "076a8d7e-9c2b-4057-b29d-484f88e7053b"
      },
      "execution_count": 60,
      "outputs": [
        {
          "output_type": "stream",
          "name": "stdout",
          "text": [
            "Number of predictions within tolerance: 57\n",
            "Percentage of accurate predictions: 14.21%\n"
          ]
        }
      ]
    },
    {
      "cell_type": "code",
      "source": [
        "# It seems like my model has a low accuracy of 14.21%. This indicates there's significant room for improvement."
      ],
      "metadata": {
        "id": "r8RBehS7WirT"
      },
      "execution_count": null,
      "outputs": []
    }
  ]
}