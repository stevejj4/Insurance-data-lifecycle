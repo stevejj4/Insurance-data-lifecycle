{
  "nbformat": 4,
  "nbformat_minor": 0,
  "metadata": {
    "colab": {
      "provenance": [],
      "authorship_tag": "ABX9TyO235qTMM1DjPXbDEOmeLwx",
      "include_colab_link": true
    },
    "kernelspec": {
      "name": "python3",
      "display_name": "Python 3"
    },
    "language_info": {
      "name": "python"
    }
  },
  "cells": [
    {
      "cell_type": "markdown",
      "metadata": {
        "id": "view-in-github",
        "colab_type": "text"
      },
      "source": [
        "<a href=\"https://colab.research.google.com/github/stevejj4/Insurance-data-lifecycle/blob/main/claims_EDA.ipynb\" target=\"_parent\"><img src=\"https://colab.research.google.com/assets/colab-badge.svg\" alt=\"Open In Colab\"/></a>"
      ]
    },
    {
      "cell_type": "code",
      "execution_count": 1,
      "metadata": {
        "colab": {
          "base_uri": "https://localhost:8080/"
        },
        "id": "zNQsvY9gYJIe",
        "outputId": "aebd7737-ca98-42a9-8903-00cff2319b1a"
      },
      "outputs": [
        {
          "output_type": "stream",
          "name": "stdout",
          "text": [
            "Requirement already satisfied: google-cloud-bigquery in /usr/local/lib/python3.10/dist-packages (3.25.0)\n",
            "Requirement already satisfied: google-api-core!=2.0.*,!=2.1.*,!=2.10.*,!=2.2.*,!=2.3.*,!=2.4.*,!=2.5.*,!=2.6.*,!=2.7.*,!=2.8.*,!=2.9.*,<3.0.0dev,>=1.34.1 in /usr/local/lib/python3.10/dist-packages (from google-api-core[grpc]!=2.0.*,!=2.1.*,!=2.10.*,!=2.2.*,!=2.3.*,!=2.4.*,!=2.5.*,!=2.6.*,!=2.7.*,!=2.8.*,!=2.9.*,<3.0.0dev,>=1.34.1->google-cloud-bigquery) (2.19.1)\n",
            "Requirement already satisfied: google-auth<3.0.0dev,>=2.14.1 in /usr/local/lib/python3.10/dist-packages (from google-cloud-bigquery) (2.27.0)\n",
            "Requirement already satisfied: google-cloud-core<3.0.0dev,>=1.6.0 in /usr/local/lib/python3.10/dist-packages (from google-cloud-bigquery) (2.4.1)\n",
            "Requirement already satisfied: google-resumable-media<3.0dev,>=0.6.0 in /usr/local/lib/python3.10/dist-packages (from google-cloud-bigquery) (2.7.1)\n",
            "Requirement already satisfied: packaging>=20.0.0 in /usr/local/lib/python3.10/dist-packages (from google-cloud-bigquery) (24.1)\n",
            "Requirement already satisfied: python-dateutil<3.0dev,>=2.7.2 in /usr/local/lib/python3.10/dist-packages (from google-cloud-bigquery) (2.8.2)\n",
            "Requirement already satisfied: requests<3.0.0dev,>=2.21.0 in /usr/local/lib/python3.10/dist-packages (from google-cloud-bigquery) (2.31.0)\n",
            "Requirement already satisfied: googleapis-common-protos<2.0.dev0,>=1.56.2 in /usr/local/lib/python3.10/dist-packages (from google-api-core!=2.0.*,!=2.1.*,!=2.10.*,!=2.2.*,!=2.3.*,!=2.4.*,!=2.5.*,!=2.6.*,!=2.7.*,!=2.8.*,!=2.9.*,<3.0.0dev,>=1.34.1->google-api-core[grpc]!=2.0.*,!=2.1.*,!=2.10.*,!=2.2.*,!=2.3.*,!=2.4.*,!=2.5.*,!=2.6.*,!=2.7.*,!=2.8.*,!=2.9.*,<3.0.0dev,>=1.34.1->google-cloud-bigquery) (1.63.2)\n",
            "Requirement already satisfied: protobuf!=3.20.0,!=3.20.1,!=4.21.0,!=4.21.1,!=4.21.2,!=4.21.3,!=4.21.4,!=4.21.5,<6.0.0.dev0,>=3.19.5 in /usr/local/lib/python3.10/dist-packages (from google-api-core!=2.0.*,!=2.1.*,!=2.10.*,!=2.2.*,!=2.3.*,!=2.4.*,!=2.5.*,!=2.6.*,!=2.7.*,!=2.8.*,!=2.9.*,<3.0.0dev,>=1.34.1->google-api-core[grpc]!=2.0.*,!=2.1.*,!=2.10.*,!=2.2.*,!=2.3.*,!=2.4.*,!=2.5.*,!=2.6.*,!=2.7.*,!=2.8.*,!=2.9.*,<3.0.0dev,>=1.34.1->google-cloud-bigquery) (3.20.3)\n",
            "Requirement already satisfied: proto-plus<2.0.0dev,>=1.22.3 in /usr/local/lib/python3.10/dist-packages (from google-api-core!=2.0.*,!=2.1.*,!=2.10.*,!=2.2.*,!=2.3.*,!=2.4.*,!=2.5.*,!=2.6.*,!=2.7.*,!=2.8.*,!=2.9.*,<3.0.0dev,>=1.34.1->google-api-core[grpc]!=2.0.*,!=2.1.*,!=2.10.*,!=2.2.*,!=2.3.*,!=2.4.*,!=2.5.*,!=2.6.*,!=2.7.*,!=2.8.*,!=2.9.*,<3.0.0dev,>=1.34.1->google-cloud-bigquery) (1.24.0)\n",
            "Requirement already satisfied: grpcio<2.0dev,>=1.33.2 in /usr/local/lib/python3.10/dist-packages (from google-api-core[grpc]!=2.0.*,!=2.1.*,!=2.10.*,!=2.2.*,!=2.3.*,!=2.4.*,!=2.5.*,!=2.6.*,!=2.7.*,!=2.8.*,!=2.9.*,<3.0.0dev,>=1.34.1->google-cloud-bigquery) (1.64.1)\n",
            "Requirement already satisfied: grpcio-status<2.0.dev0,>=1.33.2 in /usr/local/lib/python3.10/dist-packages (from google-api-core[grpc]!=2.0.*,!=2.1.*,!=2.10.*,!=2.2.*,!=2.3.*,!=2.4.*,!=2.5.*,!=2.6.*,!=2.7.*,!=2.8.*,!=2.9.*,<3.0.0dev,>=1.34.1->google-cloud-bigquery) (1.48.2)\n",
            "Requirement already satisfied: cachetools<6.0,>=2.0.0 in /usr/local/lib/python3.10/dist-packages (from google-auth<3.0.0dev,>=2.14.1->google-cloud-bigquery) (5.4.0)\n",
            "Requirement already satisfied: pyasn1-modules>=0.2.1 in /usr/local/lib/python3.10/dist-packages (from google-auth<3.0.0dev,>=2.14.1->google-cloud-bigquery) (0.4.0)\n",
            "Requirement already satisfied: rsa<5,>=3.1.4 in /usr/local/lib/python3.10/dist-packages (from google-auth<3.0.0dev,>=2.14.1->google-cloud-bigquery) (4.9)\n",
            "Requirement already satisfied: google-crc32c<2.0dev,>=1.0 in /usr/local/lib/python3.10/dist-packages (from google-resumable-media<3.0dev,>=0.6.0->google-cloud-bigquery) (1.5.0)\n",
            "Requirement already satisfied: six>=1.5 in /usr/local/lib/python3.10/dist-packages (from python-dateutil<3.0dev,>=2.7.2->google-cloud-bigquery) (1.16.0)\n",
            "Requirement already satisfied: charset-normalizer<4,>=2 in /usr/local/lib/python3.10/dist-packages (from requests<3.0.0dev,>=2.21.0->google-cloud-bigquery) (3.3.2)\n",
            "Requirement already satisfied: idna<4,>=2.5 in /usr/local/lib/python3.10/dist-packages (from requests<3.0.0dev,>=2.21.0->google-cloud-bigquery) (3.7)\n",
            "Requirement already satisfied: urllib3<3,>=1.21.1 in /usr/local/lib/python3.10/dist-packages (from requests<3.0.0dev,>=2.21.0->google-cloud-bigquery) (2.0.7)\n",
            "Requirement already satisfied: certifi>=2017.4.17 in /usr/local/lib/python3.10/dist-packages (from requests<3.0.0dev,>=2.21.0->google-cloud-bigquery) (2024.7.4)\n",
            "Requirement already satisfied: pyasn1<0.7.0,>=0.4.6 in /usr/local/lib/python3.10/dist-packages (from pyasn1-modules>=0.2.1->google-auth<3.0.0dev,>=2.14.1->google-cloud-bigquery) (0.6.0)\n",
            "Collecting pyspark==3.1.2\n",
            "  Downloading pyspark-3.1.2.tar.gz (212.4 MB)\n",
            "\u001b[2K     \u001b[90m━━━━━━━━━━━━━━━━━━━━━━━━━━━━━━━━━━━━━━━━\u001b[0m \u001b[32m212.4/212.4 MB\u001b[0m \u001b[31m6.3 MB/s\u001b[0m eta \u001b[36m0:00:00\u001b[0m\n",
            "\u001b[?25h  Preparing metadata (setup.py) ... \u001b[?25l\u001b[?25hdone\n",
            "Collecting py4j==0.10.9 (from pyspark==3.1.2)\n",
            "  Downloading py4j-0.10.9-py2.py3-none-any.whl.metadata (1.3 kB)\n",
            "Downloading py4j-0.10.9-py2.py3-none-any.whl (198 kB)\n",
            "\u001b[2K   \u001b[90m━━━━━━━━━━━━━━━━━━━━━━━━━━━━━━━━━━━━━━━━\u001b[0m \u001b[32m198.6/198.6 kB\u001b[0m \u001b[31m9.4 MB/s\u001b[0m eta \u001b[36m0:00:00\u001b[0m\n",
            "\u001b[?25hBuilding wheels for collected packages: pyspark\n",
            "  Building wheel for pyspark (setup.py) ... \u001b[?25l\u001b[?25hdone\n",
            "  Created wheel for pyspark: filename=pyspark-3.1.2-py2.py3-none-any.whl size=212880745 sha256=818b7ddaa19067582ece148a2ded3dda212b037cd9900567653cb198cae81321\n",
            "  Stored in directory: /root/.cache/pip/wheels/ef/70/50/7882e1bcb5693225f7cc86698f10953201b48b3f36317c2d18\n",
            "Successfully built pyspark\n",
            "Installing collected packages: py4j, pyspark\n",
            "  Attempting uninstall: py4j\n",
            "    Found existing installation: py4j 0.10.9.7\n",
            "    Uninstalling py4j-0.10.9.7:\n",
            "      Successfully uninstalled py4j-0.10.9.7\n",
            "Successfully installed py4j-0.10.9 pyspark-3.1.2\n"
          ]
        }
      ],
      "source": [
        "!pip install google-cloud-bigquery\n",
        "!pip install pyspark==3.1.2\n",
        "\n",
        "from google.colab import auth\n",
        "auth.authenticate_user()\n",
        "\n",
        "from google.cloud import bigquery\n",
        "import pandas as pd\n",
        "from pyspark.sql import SparkSession"
      ]
    },
    {
      "cell_type": "code",
      "source": [
        "# Authenticating and initializing BigQuery client\n",
        "project_id = 'river-messenger-430112-e1'\n",
        "client = bigquery.Client(project=project_id)"
      ],
      "metadata": {
        "id": "NFb0IwcsYlUp"
      },
      "execution_count": 2,
      "outputs": []
    },
    {
      "cell_type": "code",
      "source": [
        "# Querying to get interactions table\n",
        "query_claims = \"\"\"\n",
        "SELECT * FROM `river-messenger-430112-e1.Insurance_data.claims`;\n",
        "\"\"\""
      ],
      "metadata": {
        "id": "CtFIRMAdYoXY"
      },
      "execution_count": 5,
      "outputs": []
    },
    {
      "cell_type": "code",
      "source": [
        "# Executing the query and converting to a pandas DataFrame\n",
        "df_claims = client.query(query_claims).to_dataframe()"
      ],
      "metadata": {
        "id": "g2bxBo5XYsXG"
      },
      "execution_count": 6,
      "outputs": []
    },
    {
      "cell_type": "code",
      "source": [
        "# Initializing SparkSession\n",
        "spark = SparkSession.builder \\\n",
        "    .appName('BigQuerySparkApp') \\\n",
        "    .getOrCreate()\n",
        "\n",
        "# Converting pandas DataFrame to Spark DataFrame\n",
        "# Using iterrows() instead of iteritems() to iterate over DataFrame rows\n",
        "spark_df_claims = spark.createDataFrame(df_claims.to_dict('records'))\n",
        "\n",
        "# Show the schema and first few rows\n",
        "spark_df_claims.printSchema()\n",
        "spark_df_claims.show(5)"
      ],
      "metadata": {
        "colab": {
          "base_uri": "https://localhost:8080/"
        },
        "id": "JavALAsMZAIY",
        "outputId": "25e603ef-5efe-4519-dfab-9907e9d21a19"
      },
      "execution_count": 7,
      "outputs": [
        {
          "output_type": "stream",
          "name": "stdout",
          "text": [
            "root\n",
            " |-- ClaimAmount: double (nullable = true)\n",
            " |-- ClaimDate: string (nullable = true)\n",
            " |-- ClaimID: long (nullable = true)\n",
            " |-- ClaimStatus: string (nullable = true)\n",
            " |-- CustomerID: long (nullable = true)\n",
            "\n",
            "+-----------+----------+-------+-----------+----------+\n",
            "|ClaimAmount| ClaimDate|ClaimID|ClaimStatus|CustomerID|\n",
            "+-----------+----------+-------+-----------+----------+\n",
            "|   16550.85|2022-07-19|   2053|    Pending|      1278|\n",
            "|    7218.45|2022-07-19|   2957|    Pending|       989|\n",
            "|    1081.17|2022-07-20|    120|    Pending|      1228|\n",
            "|     3149.5|2022-07-20|   1285|    Pending|      1048|\n",
            "|    2712.05|2022-07-21|   1953|    Pending|      1570|\n",
            "+-----------+----------+-------+-----------+----------+\n",
            "only showing top 5 rows\n",
            "\n"
          ]
        }
      ]
    },
    {
      "cell_type": "code",
      "source": [
        "spark_df_claims.select(\"ClaimAmount\").describe().show()"
      ],
      "metadata": {
        "colab": {
          "base_uri": "https://localhost:8080/"
        },
        "id": "c3ixWz7hap0y",
        "outputId": "f78438da-c73f-40ab-912c-b45bb634f25f"
      },
      "execution_count": 8,
      "outputs": [
        {
          "output_type": "stream",
          "name": "stdout",
          "text": [
            "+-------+-----------------+\n",
            "|summary|      ClaimAmount|\n",
            "+-------+-----------------+\n",
            "|  count|             3000|\n",
            "|   mean|10140.84765666668|\n",
            "| stddev|5591.086391698572|\n",
            "|    min|           526.12|\n",
            "|    max|         19994.66|\n",
            "+-------+-----------------+\n",
            "\n"
          ]
        }
      ]
    },
    {
      "cell_type": "code",
      "source": [
        "import matplotlib.pyplot as plt\n",
        "# Assuming 'ClaimAmount' is a numeric column\n",
        "claim_amounts = spark_df_claims.select(\"ClaimAmount\").rdd.flatMap(lambda x: x).collect()\n",
        "plt.hist(claim_amounts, bins=20)\n",
        "plt.xlabel(\"Claim Amount\")\n",
        "plt.ylabel(\"Frequency\")\n",
        "plt.title(\"Distribution of Claim Amount\")\n",
        "plt.show()"
      ],
      "metadata": {
        "colab": {
          "base_uri": "https://localhost:8080/",
          "height": 472
        },
        "id": "5uo1kSqLaxqs",
        "outputId": "c27f7c92-a148-49ca-877d-e91e6f1f94c4"
      },
      "execution_count": 9,
      "outputs": [
        {
          "output_type": "display_data",
          "data": {
            "text/plain": [
              "<Figure size 640x480 with 1 Axes>"
            ],
            "image/png": "[encoded data removed]"
          },
          "metadata": {}
        }
      ]
    },
    {
      "cell_type": "code",
      "source": [
        "from pyspark.sql.functions import year, month, dayofmonth\n",
        "\n",
        "spark_df_claims = spark_df_claims.withColumn(\"ClaimYear\", year(\"ClaimDate\")) \\\n",
        "                                 .withColumn(\"ClaimMonth\", month(\"ClaimDate\")) \\\n",
        "                                 .withColumn(\"ClaimDay\", dayofmonth(\"ClaimDate\"))\n",
        "\n",
        "spark_df_claims.show()"
      ],
      "metadata": {
        "colab": {
          "base_uri": "https://localhost:8080/"
        },
        "id": "HZplyIs8a3zL",
        "outputId": "42605085-a249-4d15-ad42-51561c470381"
      },
      "execution_count": 13,
      "outputs": [
        {
          "output_type": "stream",
          "name": "stdout",
          "text": [
            "+-----------+----------+-------+-----------+----------+---------+----------+--------+\n",
            "|ClaimAmount| ClaimDate|ClaimID|ClaimStatus|CustomerID|ClaimYear|ClaimMonth|ClaimDay|\n",
            "+-----------+----------+-------+-----------+----------+---------+----------+--------+\n",
            "|   16550.85|2022-07-19|   2053|    Pending|      1278|     2022|         7|      19|\n",
            "|    7218.45|2022-07-19|   2957|    Pending|       989|     2022|         7|      19|\n",
            "|    1081.17|2022-07-20|    120|    Pending|      1228|     2022|         7|      20|\n",
            "|     3149.5|2022-07-20|   1285|    Pending|      1048|     2022|         7|      20|\n",
            "|    2712.05|2022-07-21|   1953|    Pending|      1570|     2022|         7|      21|\n",
            "|    4713.42|2022-07-21|   2783|    Pending|      1758|     2022|         7|      21|\n",
            "|   12446.76|2022-07-22|    780|    Pending|      1608|     2022|         7|      22|\n",
            "|    6117.53|2022-07-23|    656|    Pending|      1781|     2022|         7|      23|\n",
            "|     4126.7|2022-07-24|   2474|    Pending|      1775|     2022|         7|      24|\n",
            "|   19006.44|2022-07-25|   2599|    Pending|      1417|     2022|         7|      25|\n",
            "|   13865.87|2022-07-26|   2947|    Pending|       571|     2022|         7|      26|\n",
            "|   16391.62|2022-07-28|     64|    Pending|       525|     2022|         7|      28|\n",
            "|   19760.79|2022-07-29|    990|    Pending|       929|     2022|         7|      29|\n",
            "|    1684.87|2022-07-29|   2334|    Pending|       580|     2022|         7|      29|\n",
            "|    4591.26|2022-07-29|   2815|    Pending|       286|     2022|         7|      29|\n",
            "|    1708.75|2022-07-30|   1358|    Pending|      1730|     2022|         7|      30|\n",
            "|    2166.83|2022-07-31|    860|    Pending|      1519|     2022|         7|      31|\n",
            "|   14549.07|2022-07-31|   1603|    Pending|       901|     2022|         7|      31|\n",
            "|   15246.17|2022-07-31|   2622|    Pending|      1729|     2022|         7|      31|\n",
            "|   10333.71|2022-08-02|    242|    Pending|        11|     2022|         8|       2|\n",
            "+-----------+----------+-------+-----------+----------+---------+----------+--------+\n",
            "only showing top 20 rows\n",
            "\n"
          ]
        }
      ]
    },
    {
      "cell_type": "code",
      "source": [
        "from pyspark.sql.functions import month\n",
        "\n",
        "spark_df_claims = spark_df_claims.withColumn(\"ClaimMonth\", month(\"ClaimDate\"))\n",
        "\n",
        "spark_df_claims.show()"
      ],
      "metadata": {
        "colab": {
          "base_uri": "https://localhost:8080/"
        },
        "id": "H52qmL-WbuZz",
        "outputId": "8a1c7cd3-a766-478c-cd55-10f0aaae844c"
      },
      "execution_count": 15,
      "outputs": [
        {
          "output_type": "stream",
          "name": "stdout",
          "text": [
            "+-----------+----------+-------+-----------+----------+---------+----------+--------+\n",
            "|ClaimAmount| ClaimDate|ClaimID|ClaimStatus|CustomerID|ClaimYear|ClaimMonth|ClaimDay|\n",
            "+-----------+----------+-------+-----------+----------+---------+----------+--------+\n",
            "|   16550.85|2022-07-19|   2053|    Pending|      1278|     2022|         7|      19|\n",
            "|    7218.45|2022-07-19|   2957|    Pending|       989|     2022|         7|      19|\n",
            "|    1081.17|2022-07-20|    120|    Pending|      1228|     2022|         7|      20|\n",
            "|     3149.5|2022-07-20|   1285|    Pending|      1048|     2022|         7|      20|\n",
            "|    2712.05|2022-07-21|   1953|    Pending|      1570|     2022|         7|      21|\n",
            "|    4713.42|2022-07-21|   2783|    Pending|      1758|     2022|         7|      21|\n",
            "|   12446.76|2022-07-22|    780|    Pending|      1608|     2022|         7|      22|\n",
            "|    6117.53|2022-07-23|    656|    Pending|      1781|     2022|         7|      23|\n",
            "|     4126.7|2022-07-24|   2474|    Pending|      1775|     2022|         7|      24|\n",
            "|   19006.44|2022-07-25|   2599|    Pending|      1417|     2022|         7|      25|\n",
            "|   13865.87|2022-07-26|   2947|    Pending|       571|     2022|         7|      26|\n",
            "|   16391.62|2022-07-28|     64|    Pending|       525|     2022|         7|      28|\n",
            "|   19760.79|2022-07-29|    990|    Pending|       929|     2022|         7|      29|\n",
            "|    1684.87|2022-07-29|   2334|    Pending|       580|     2022|         7|      29|\n",
            "|    4591.26|2022-07-29|   2815|    Pending|       286|     2022|         7|      29|\n",
            "|    1708.75|2022-07-30|   1358|    Pending|      1730|     2022|         7|      30|\n",
            "|    2166.83|2022-07-31|    860|    Pending|      1519|     2022|         7|      31|\n",
            "|   14549.07|2022-07-31|   1603|    Pending|       901|     2022|         7|      31|\n",
            "|   15246.17|2022-07-31|   2622|    Pending|      1729|     2022|         7|      31|\n",
            "|   10333.71|2022-08-02|    242|    Pending|        11|     2022|         8|       2|\n",
            "+-----------+----------+-------+-----------+----------+---------+----------+--------+\n",
            "only showing top 20 rows\n",
            "\n"
          ]
        }
      ]
    },
    {
      "cell_type": "code",
      "source": [
        "num_classes = spark_df_claims.select(\"ClaimStatus\").distinct().count()\n",
        "print(\"Number of distinct ClaimStatus classes:\", num_classes)\n",
        "import matplotlib.pyplot as plt\n",
        "\n",
        "class_distribution = spark_df_claims.groupBy(\"ClaimStatus\").count().collect()\n",
        "class_distribution_pandas = pd.DataFrame(class_distribution, columns=[\"ClaimStatus\", \"count\"])\n",
        "\n",
        "plt.pie(class_distribution_pandas['count'], labels=class_distribution_pandas['ClaimStatus'], autopct='%1.1f%%')\n",
        "plt.title(\"Distribution of Claim Status\")\n",
        "plt.legend(title=\"Claim Status\", loc=\"best\")  # Add this line for the legend\n",
        "plt.show()\n"
      ],
      "metadata": {
        "colab": {
          "base_uri": "https://localhost:8080/",
          "height": 445
        },
        "id": "EKM5HzpIcFI8",
        "outputId": "cf105697-8217-49e9-b27f-300ba16d189e"
      },
      "execution_count": 19,
      "outputs": [
        {
          "output_type": "stream",
          "name": "stdout",
          "text": [
            "Number of distinct ClaimStatus classes: 3\n"
          ]
        },
        {
          "output_type": "display_data",
          "data": {
            "text/plain": [
              "<Figure size 640x480 with 1 Axes>"
            ],
            "image/png": "[encoded data removed]"
          },
          "metadata": {}
        }
      ]
    },
    {
      "cell_type": "code",
      "source": [
        "from pyspark.sql.functions import avg\n",
        "\n",
        "avg_claim_by_status = spark_df_claims.groupBy(\"ClaimStatus\").agg(avg(\"ClaimAmount\").alias(\"AverageClaimAmount\"))\n",
        "avg_claim_by_status.show()"
      ],
      "metadata": {
        "colab": {
          "base_uri": "https://localhost:8080/"
        },
        "id": "Ow2hakTydckC",
        "outputId": "69e0f86a-a119-455e-bab7-e34bae7daa86"
      },
      "execution_count": 24,
      "outputs": [
        {
          "output_type": "stream",
          "name": "stdout",
          "text": [
            "+-----------+------------------+\n",
            "|ClaimStatus|AverageClaimAmount|\n",
            "+-----------+------------------+\n",
            "|   Approved|10415.465743099789|\n",
            "|   Rejected|10093.062546523015|\n",
            "|    Pending| 9938.435274831261|\n",
            "+-----------+------------------+\n",
            "\n"
          ]
        }
      ]
    },
    {
      "cell_type": "code",
      "source": [
        "from pyspark.sql.functions import year\n",
        "\n",
        "distinct_years = spark_df_claims.select(year(\"ClaimDate\").alias(\"ClaimYear\")).distinct()\n",
        "distinct_years.show()"
      ],
      "metadata": {
        "colab": {
          "base_uri": "https://localhost:8080/"
        },
        "id": "HSsJw5X3d9Rk",
        "outputId": "bd43411c-9b91-4e3b-c242-25b1611dc6ab"
      },
      "execution_count": 23,
      "outputs": [
        {
          "output_type": "stream",
          "name": "stdout",
          "text": [
            "+---------+\n",
            "|ClaimYear|\n",
            "+---------+\n",
            "|     2023|\n",
            "|     2022|\n",
            "|     2024|\n",
            "+---------+\n",
            "\n"
          ]
        }
      ]
    }
  ]
}