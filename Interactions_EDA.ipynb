{
  "nbformat": 4,
  "nbformat_minor": 0,
  "metadata": {
    "colab": {
      "provenance": [],
      "authorship_tag": "ABX9TyMAT0hnJrcMiXk1r1Mjs+OD",
      "include_colab_link": true
    },
    "kernelspec": {
      "name": "python3",
      "display_name": "Python 3"
    },
    "language_info": {
      "name": "python"
    }
  },
  "cells": [
    {
      "cell_type": "markdown",
      "metadata": {
        "id": "view-in-github",
        "colab_type": "text"
      },
      "source": [
        "<a href=\"https://colab.research.google.com/github/stevejj4/Insurance-data-lifecycle/blob/main/Interactions_EDA.ipynb\" target=\"_parent\"><img src=\"https://colab.research.google.com/assets/colab-badge.svg\" alt=\"Open In Colab\"/></a>"
      ]
    },
    {
      "cell_type": "code",
      "execution_count": 3,
      "metadata": {
        "id": "zOOxo42biV8Y",
        "colab": {
          "base_uri": "https://localhost:8080/"
        },
        "outputId": "6e1a14ce-de8c-4fab-f231-e9e16c7e6557"
      },
      "outputs": [
        {
          "output_type": "stream",
          "name": "stdout",
          "text": [
            "Requirement already satisfied: google-cloud-bigquery in /usr/local/lib/python3.10/dist-packages (3.25.0)\n",
            "Requirement already satisfied: google-api-core!=2.0.*,!=2.1.*,!=2.10.*,!=2.2.*,!=2.3.*,!=2.4.*,!=2.5.*,!=2.6.*,!=2.7.*,!=2.8.*,!=2.9.*,<3.0.0dev,>=1.34.1 in /usr/local/lib/python3.10/dist-packages (from google-api-core[grpc]!=2.0.*,!=2.1.*,!=2.10.*,!=2.2.*,!=2.3.*,!=2.4.*,!=2.5.*,!=2.6.*,!=2.7.*,!=2.8.*,!=2.9.*,<3.0.0dev,>=1.34.1->google-cloud-bigquery) (2.19.1)\n",
            "Requirement already satisfied: google-auth<3.0.0dev,>=2.14.1 in /usr/local/lib/python3.10/dist-packages (from google-cloud-bigquery) (2.27.0)\n",
            "Requirement already satisfied: google-cloud-core<3.0.0dev,>=1.6.0 in /usr/local/lib/python3.10/dist-packages (from google-cloud-bigquery) (2.4.1)\n",
            "Requirement already satisfied: google-resumable-media<3.0dev,>=0.6.0 in /usr/local/lib/python3.10/dist-packages (from google-cloud-bigquery) (2.7.1)\n",
            "Requirement already satisfied: packaging>=20.0.0 in /usr/local/lib/python3.10/dist-packages (from google-cloud-bigquery) (24.1)\n",
            "Requirement already satisfied: python-dateutil<3.0dev,>=2.7.2 in /usr/local/lib/python3.10/dist-packages (from google-cloud-bigquery) (2.8.2)\n",
            "Requirement already satisfied: requests<3.0.0dev,>=2.21.0 in /usr/local/lib/python3.10/dist-packages (from google-cloud-bigquery) (2.31.0)\n",
            "Requirement already satisfied: googleapis-common-protos<2.0.dev0,>=1.56.2 in /usr/local/lib/python3.10/dist-packages (from google-api-core!=2.0.*,!=2.1.*,!=2.10.*,!=2.2.*,!=2.3.*,!=2.4.*,!=2.5.*,!=2.6.*,!=2.7.*,!=2.8.*,!=2.9.*,<3.0.0dev,>=1.34.1->google-api-core[grpc]!=2.0.*,!=2.1.*,!=2.10.*,!=2.2.*,!=2.3.*,!=2.4.*,!=2.5.*,!=2.6.*,!=2.7.*,!=2.8.*,!=2.9.*,<3.0.0dev,>=1.34.1->google-cloud-bigquery) (1.63.2)\n",
            "Requirement already satisfied: protobuf!=3.20.0,!=3.20.1,!=4.21.0,!=4.21.1,!=4.21.2,!=4.21.3,!=4.21.4,!=4.21.5,<6.0.0.dev0,>=3.19.5 in /usr/local/lib/python3.10/dist-packages (from google-api-core!=2.0.*,!=2.1.*,!=2.10.*,!=2.2.*,!=2.3.*,!=2.4.*,!=2.5.*,!=2.6.*,!=2.7.*,!=2.8.*,!=2.9.*,<3.0.0dev,>=1.34.1->google-api-core[grpc]!=2.0.*,!=2.1.*,!=2.10.*,!=2.2.*,!=2.3.*,!=2.4.*,!=2.5.*,!=2.6.*,!=2.7.*,!=2.8.*,!=2.9.*,<3.0.0dev,>=1.34.1->google-cloud-bigquery) (3.20.3)\n",
            "Requirement already satisfied: proto-plus<2.0.0dev,>=1.22.3 in /usr/local/lib/python3.10/dist-packages (from google-api-core!=2.0.*,!=2.1.*,!=2.10.*,!=2.2.*,!=2.3.*,!=2.4.*,!=2.5.*,!=2.6.*,!=2.7.*,!=2.8.*,!=2.9.*,<3.0.0dev,>=1.34.1->google-api-core[grpc]!=2.0.*,!=2.1.*,!=2.10.*,!=2.2.*,!=2.3.*,!=2.4.*,!=2.5.*,!=2.6.*,!=2.7.*,!=2.8.*,!=2.9.*,<3.0.0dev,>=1.34.1->google-cloud-bigquery) (1.24.0)\n",
            "Requirement already satisfied: grpcio<2.0dev,>=1.33.2 in /usr/local/lib/python3.10/dist-packages (from google-api-core[grpc]!=2.0.*,!=2.1.*,!=2.10.*,!=2.2.*,!=2.3.*,!=2.4.*,!=2.5.*,!=2.6.*,!=2.7.*,!=2.8.*,!=2.9.*,<3.0.0dev,>=1.34.1->google-cloud-bigquery) (1.64.1)\n",
            "Requirement already satisfied: grpcio-status<2.0.dev0,>=1.33.2 in /usr/local/lib/python3.10/dist-packages (from google-api-core[grpc]!=2.0.*,!=2.1.*,!=2.10.*,!=2.2.*,!=2.3.*,!=2.4.*,!=2.5.*,!=2.6.*,!=2.7.*,!=2.8.*,!=2.9.*,<3.0.0dev,>=1.34.1->google-cloud-bigquery) (1.48.2)\n",
            "Requirement already satisfied: cachetools<6.0,>=2.0.0 in /usr/local/lib/python3.10/dist-packages (from google-auth<3.0.0dev,>=2.14.1->google-cloud-bigquery) (5.4.0)\n",
            "Requirement already satisfied: pyasn1-modules>=0.2.1 in /usr/local/lib/python3.10/dist-packages (from google-auth<3.0.0dev,>=2.14.1->google-cloud-bigquery) (0.4.0)\n",
            "Requirement already satisfied: rsa<5,>=3.1.4 in /usr/local/lib/python3.10/dist-packages (from google-auth<3.0.0dev,>=2.14.1->google-cloud-bigquery) (4.9)\n",
            "Requirement already satisfied: google-crc32c<2.0dev,>=1.0 in /usr/local/lib/python3.10/dist-packages (from google-resumable-media<3.0dev,>=0.6.0->google-cloud-bigquery) (1.5.0)\n",
            "Requirement already satisfied: six>=1.5 in /usr/local/lib/python3.10/dist-packages (from python-dateutil<3.0dev,>=2.7.2->google-cloud-bigquery) (1.16.0)\n",
            "Requirement already satisfied: charset-normalizer<4,>=2 in /usr/local/lib/python3.10/dist-packages (from requests<3.0.0dev,>=2.21.0->google-cloud-bigquery) (3.3.2)\n",
            "Requirement already satisfied: idna<4,>=2.5 in /usr/local/lib/python3.10/dist-packages (from requests<3.0.0dev,>=2.21.0->google-cloud-bigquery) (3.7)\n",
            "Requirement already satisfied: urllib3<3,>=1.21.1 in /usr/local/lib/python3.10/dist-packages (from requests<3.0.0dev,>=2.21.0->google-cloud-bigquery) (2.0.7)\n",
            "Requirement already satisfied: certifi>=2017.4.17 in /usr/local/lib/python3.10/dist-packages (from requests<3.0.0dev,>=2.21.0->google-cloud-bigquery) (2024.7.4)\n",
            "Requirement already satisfied: pyasn1<0.7.0,>=0.4.6 in /usr/local/lib/python3.10/dist-packages (from pyasn1-modules>=0.2.1->google-auth<3.0.0dev,>=2.14.1->google-cloud-bigquery) (0.6.0)\n",
            "Requirement already satisfied: pyspark==3.1.2 in /usr/local/lib/python3.10/dist-packages (3.1.2)\n",
            "Requirement already satisfied: py4j==0.10.9 in /usr/local/lib/python3.10/dist-packages (from pyspark==3.1.2) (0.10.9)\n"
          ]
        }
      ],
      "source": [
        "!pip install google-cloud-bigquery\n",
        "!pip install pyspark==3.1.2\n",
        "\n",
        "from google.colab import auth\n",
        "auth.authenticate_user()\n",
        "\n",
        "from google.cloud import bigquery\n",
        "import pandas as pd\n",
        "from pyspark.sql import SparkSession\n"
      ]
    },
    {
      "cell_type": "code",
      "source": [
        "# Authenticating and initializing BigQuery client\n",
        "project_id = 'river-messenger-430112-e1'\n",
        "client = bigquery.Client(project=project_id)"
      ],
      "metadata": {
        "id": "kilRyfb3oXpc"
      },
      "execution_count": 4,
      "outputs": []
    },
    {
      "cell_type": "markdown",
      "source": [],
      "metadata": {
        "id": "-2DFmmNSCFzp"
      }
    },
    {
      "cell_type": "code",
      "source": [
        "# Querying to get interactions table\n",
        "query_interactions = \"\"\"\n",
        "SELECT * FROM `river-messenger-430112-e1.Insurance_data.interactions`;\n",
        "\"\"\""
      ],
      "metadata": {
        "id": "Gv0bKuiMolTE"
      },
      "execution_count": 5,
      "outputs": []
    },
    {
      "cell_type": "code",
      "source": [
        "# Executing the query and converting to a pandas DataFrame\n",
        "df_interactions = client.query(query_interactions).to_dataframe()"
      ],
      "metadata": {
        "id": "ZSYLpUqPoqKf"
      },
      "execution_count": 6,
      "outputs": []
    },
    {
      "cell_type": "code",
      "source": [
        "# Displaying the first few rows of the pandas DataFrame\n",
        "#print(df_interactions.head())"
      ],
      "metadata": {
        "id": "22ZWdXNlos-8"
      },
      "execution_count": 7,
      "outputs": []
    },
    {
      "cell_type": "code",
      "source": [
        "# Initializing SparkSession\n",
        "spark = SparkSession.builder \\\n",
        "    .appName('BigQuerySparkApp') \\\n",
        "    .getOrCreate()\n",
        "\n",
        "# Converting pandas DataFrame to Spark DataFrame\n",
        "# Using iterrows() instead of iteritems() to iterate over DataFrame rows\n",
        "spark_df_interactions = spark.createDataFrame(df_interactions.to_dict('records'))\n",
        "\n",
        "# schema and first few rows\n",
        "spark_df_interactions.printSchema()\n",
        "#spark_df_interactions.show(5)"
      ],
      "metadata": {
        "colab": {
          "base_uri": "https://localhost:8080/"
        },
        "id": "QLzcDJNOowY7",
        "outputId": "9f2cf719-ce17-458f-9720-0a7ffd76b022"
      },
      "execution_count": 8,
      "outputs": [
        {
          "output_type": "stream",
          "name": "stdout",
          "text": [
            "root\n",
            " |-- CustomerID: long (nullable = true)\n",
            " |-- InteractionDate: string (nullable = true)\n",
            " |-- InteractionID: long (nullable = true)\n",
            " |-- InteractionOutcome: string (nullable = true)\n",
            " |-- InteractionType: string (nullable = true)\n",
            "\n"
          ]
        }
      ]
    },
    {
      "cell_type": "code",
      "source": [
        "from pyspark.sql.functions import col, when\n",
        "\n",
        "# Handling missing values\n",
        "spark_df_interactions = spark_df_interactions.fillna({'InteractionOutcome': 'not resolved'})\n",
        "\n",
        "# Display the updated DataFrame\n",
        "spark_df_interactions.show(5)\n"
      ],
      "metadata": {
        "colab": {
          "base_uri": "https://localhost:8080/"
        },
        "id": "W4u21fgTtCNX",
        "outputId": "acc09809-352e-415d-b386-8262b347db97"
      },
      "execution_count": 9,
      "outputs": [
        {
          "output_type": "stream",
          "name": "stdout",
          "text": [
            "+----------+---------------+-------------+------------------+---------------+\n",
            "|CustomerID|InteractionDate|InteractionID|InteractionOutcome|InteractionType|\n",
            "+----------+---------------+-------------+------------------+---------------+\n",
            "|      1599|     2023-07-19|          518|        Unresolved|           Call|\n",
            "|       488|     2023-07-19|          678|          Resolved|           Call|\n",
            "|      1942|     2023-07-19|          717|          Resolved|           Call|\n",
            "|      1065|     2023-07-19|          822|        Unresolved|           Call|\n",
            "|       988|     2023-07-19|         3839|        Unresolved|           Call|\n",
            "+----------+---------------+-------------+------------------+---------------+\n",
            "only showing top 5 rows\n",
            "\n"
          ]
        }
      ]
    },
    {
      "cell_type": "code",
      "source": [
        "# Creating a satisfaction score feature\n",
        "spark_df_interactions = spark_df_interactions.withColumn(\n",
        "    'SatisfactionScore', when(col('InteractionOutcome') == 'Resolved', 1).otherwise(0)\n",
        ")\n",
        "# Display the updated DataFrame with new features\n",
        "spark_df_interactions.show(5)\n"
      ],
      "metadata": {
        "colab": {
          "base_uri": "https://localhost:8080/"
        },
        "id": "RW31MCfutJoJ",
        "outputId": "2073d5b8-d939-49ec-eb51-4c83f39910e8"
      },
      "execution_count": 15,
      "outputs": [
        {
          "output_type": "stream",
          "name": "stdout",
          "text": [
            "+----------+---------------+-------------+------------------+---------------+-----------------+----+-----+---+\n",
            "|CustomerID|InteractionDate|InteractionID|InteractionOutcome|InteractionType|SatisfactionScore|Year|Month|Day|\n",
            "+----------+---------------+-------------+------------------+---------------+-----------------+----+-----+---+\n",
            "|      1599|     2023-07-19|          518|        Unresolved|           Call|                0|2023|    7| 19|\n",
            "|       488|     2023-07-19|          678|          Resolved|           Call|                1|2023|    7| 19|\n",
            "|      1942|     2023-07-19|          717|          Resolved|           Call|                1|2023|    7| 19|\n",
            "|      1065|     2023-07-19|          822|        Unresolved|           Call|                0|2023|    7| 19|\n",
            "|       988|     2023-07-19|         3839|        Unresolved|           Call|                0|2023|    7| 19|\n",
            "+----------+---------------+-------------+------------------+---------------+-----------------+----+-----+---+\n",
            "only showing top 5 rows\n",
            "\n"
          ]
        }
      ]
    },
    {
      "cell_type": "code",
      "source": [
        "satisfaction_distribution = spark_df_interactions.groupBy('SatisfactionScore').count()\n",
        "satisfaction_distribution.show()\n",
        "#Distribution of satisfaction score within each interaction type\n",
        "satisfaction_by_type = spark_df_interactions.groupBy('InteractionType', 'SatisfactionScore').count()\n",
        "satisfaction_by_type.show()"
      ],
      "metadata": {
        "colab": {
          "base_uri": "https://localhost:8080/"
        },
        "id": "kevK8TTZle6G",
        "outputId": "3f3e3733-23e0-4654-e614-6e17bd392d11"
      },
      "execution_count": 17,
      "outputs": [
        {
          "output_type": "stream",
          "name": "stdout",
          "text": [
            "+-----------------+-----+\n",
            "|SatisfactionScore|count|\n",
            "+-----------------+-----+\n",
            "|                1| 2503|\n",
            "|                0| 2497|\n",
            "+-----------------+-----+\n",
            "\n",
            "+---------------+-----------------+-----+\n",
            "|InteractionType|SatisfactionScore|count|\n",
            "+---------------+-----------------+-----+\n",
            "|          Email|                1|  848|\n",
            "|           Call|                0|  854|\n",
            "|          Visit|                0|  814|\n",
            "|          Visit|                1|  867|\n",
            "|           Call|                1|  788|\n",
            "|          Email|                0|  829|\n",
            "+---------------+-----------------+-----+\n",
            "\n"
          ]
        }
      ]
    },
    {
      "cell_type": "code",
      "source": [
        "# Extract year, month, day from InteractionDate\n",
        "from pyspark.sql.functions import year, month, dayofmonth\n",
        "\n",
        "spark_df_interactions = spark_df_interactions.withColumn('Year', year(col('InteractionDate')))\n",
        "spark_df_interactions = spark_df_interactions.withColumn('Month', month(col('InteractionDate')))\n",
        "spark_df_interactions = spark_df_interactions.withColumn('Day', dayofmonth(col('InteractionDate')))"
      ],
      "metadata": {
        "id": "08BkMlEUlD6Z"
      },
      "execution_count": null,
      "outputs": []
    },
    {
      "cell_type": "code",
      "source": [
        "# Number of interactions per day\n",
        "interactions_per_day = spark_df_interactions.groupBy('Year', 'Month', 'Day').count()\n",
        "interactions_per_day.show(5)\n",
        "\n",
        "# Number of resolved and not resolved interactions\n",
        "interaction_outcomes = spark_df_interactions.groupBy('InteractionOutcome').count()\n",
        "interaction_outcomes.show(5)\n",
        "\n",
        "# Number of interactions per interaction type\n",
        "interactions_per_type = spark_df_interactions.groupBy('InteractionType').count()\n",
        "interactions_per_type.show(5)\n",
        "\n",
        "# Number of interactions per customer\n",
        "interactions_per_customer = spark_df_interactions.groupBy('CustomerID').count()\n",
        "interactions_per_customer.show(5)\n"
      ],
      "metadata": {
        "colab": {
          "base_uri": "https://localhost:8080/"
        },
        "id": "frNPEN5TtrIK",
        "outputId": "8e1f90b2-d487-47b4-c77e-008de11d558c"
      },
      "execution_count": 11,
      "outputs": [
        {
          "output_type": "stream",
          "name": "stdout",
          "text": [
            "+----+-----+---+-----+\n",
            "|Year|Month|Day|count|\n",
            "+----+-----+---+-----+\n",
            "|2024|    3| 19|   13|\n",
            "|2024|    2| 10|   11|\n",
            "|2024|    1| 13|   14|\n",
            "|2023|    9|  4|   20|\n",
            "|2023|    8| 10|   14|\n",
            "+----+-----+---+-----+\n",
            "only showing top 5 rows\n",
            "\n",
            "+------------------+-----+\n",
            "|InteractionOutcome|count|\n",
            "+------------------+-----+\n",
            "|        Unresolved| 2497|\n",
            "|          Resolved| 2503|\n",
            "+------------------+-----+\n",
            "\n",
            "+---------------+-----+\n",
            "|InteractionType|count|\n",
            "+---------------+-----+\n",
            "|           Call| 1642|\n",
            "|          Email| 1677|\n",
            "|          Visit| 1681|\n",
            "+---------------+-----+\n",
            "\n",
            "+----------+-----+\n",
            "|CustomerID|count|\n",
            "+----------+-----+\n",
            "|        26|    3|\n",
            "|        29|    2|\n",
            "|      1950|    3|\n",
            "|      1806|    4|\n",
            "|       964|    1|\n",
            "+----------+-----+\n",
            "only showing top 5 rows\n",
            "\n"
          ]
        }
      ]
    },
    {
      "cell_type": "code",
      "source": [
        "import matplotlib.pyplot as plt\n",
        "import seaborn as sns\n",
        "\n",
        "# Plot interaction outcomes\n",
        "plt.figure(figsize=(10, 6))\n",
        "sns.barplot(x='InteractionOutcome', y='count', data=pdf_interaction_outcomes)\n",
        "plt.title('Number of Interactions by Outcome')\n",
        "plt.xlabel('Interaction Outcome')\n",
        "plt.ylabel('Count')\n",
        "plt.show()\n"
      ],
      "metadata": {
        "colab": {
          "base_uri": "https://localhost:8080/",
          "height": 228
        },
        "id": "X6E4ngent9H9",
        "outputId": "5abbe23b-cf05-4382-80be-ec5778f0bcb5"
      },
      "execution_count": 12,
      "outputs": [
        {
          "output_type": "error",
          "ename": "NameError",
          "evalue": "name 'pdf_interaction_outcomes' is not defined",
          "traceback": [
            "\u001b[0;31m---------------------------------------------------------------------------\u001b[0m",
            "\u001b[0;31mNameError\u001b[0m                                 Traceback (most recent call last)",
            "\u001b[0;32m<ipython-input-12-41459c2e93d2>\u001b[0m in \u001b[0;36m<cell line: 6>\u001b[0;34m()\u001b[0m\n\u001b[1;32m      4\u001b[0m \u001b[0;31m# Plot interaction outcomes\u001b[0m\u001b[0;34m\u001b[0m\u001b[0;34m\u001b[0m\u001b[0m\n\u001b[1;32m      5\u001b[0m \u001b[0mplt\u001b[0m\u001b[0;34m.\u001b[0m\u001b[0mfigure\u001b[0m\u001b[0;34m(\u001b[0m\u001b[0mfigsize\u001b[0m\u001b[0;34m=\u001b[0m\u001b[0;34m(\u001b[0m\u001b[0;36m10\u001b[0m\u001b[0;34m,\u001b[0m \u001b[0;36m6\u001b[0m\u001b[0;34m)\u001b[0m\u001b[0;34m)\u001b[0m\u001b[0;34m\u001b[0m\u001b[0;34m\u001b[0m\u001b[0m\n\u001b[0;32m----> 6\u001b[0;31m \u001b[0msns\u001b[0m\u001b[0;34m.\u001b[0m\u001b[0mbarplot\u001b[0m\u001b[0;34m(\u001b[0m\u001b[0mx\u001b[0m\u001b[0;34m=\u001b[0m\u001b[0;34m'InteractionOutcome'\u001b[0m\u001b[0;34m,\u001b[0m \u001b[0my\u001b[0m\u001b[0;34m=\u001b[0m\u001b[0;34m'count'\u001b[0m\u001b[0;34m,\u001b[0m \u001b[0mdata\u001b[0m\u001b[0;34m=\u001b[0m\u001b[0mpdf_interaction_outcomes\u001b[0m\u001b[0;34m)\u001b[0m\u001b[0;34m\u001b[0m\u001b[0;34m\u001b[0m\u001b[0m\n\u001b[0m\u001b[1;32m      7\u001b[0m \u001b[0mplt\u001b[0m\u001b[0;34m.\u001b[0m\u001b[0mtitle\u001b[0m\u001b[0;34m(\u001b[0m\u001b[0;34m'Number of Interactions by Outcome'\u001b[0m\u001b[0;34m)\u001b[0m\u001b[0;34m\u001b[0m\u001b[0;34m\u001b[0m\u001b[0m\n\u001b[1;32m      8\u001b[0m \u001b[0mplt\u001b[0m\u001b[0;34m.\u001b[0m\u001b[0mxlabel\u001b[0m\u001b[0;34m(\u001b[0m\u001b[0;34m'Interaction Outcome'\u001b[0m\u001b[0;34m)\u001b[0m\u001b[0;34m\u001b[0m\u001b[0;34m\u001b[0m\u001b[0m\n",
            "\u001b[0;31mNameError\u001b[0m: name 'pdf_interaction_outcomes' is not defined"
          ]
        },
        {
          "output_type": "display_data",
          "data": {
            "text/plain": [
              "<Figure size 1000x600 with 0 Axes>"
            ]
          },
          "metadata": {}
        }
      ]
    },
    {
      "cell_type": "code",
      "source": [
        "import torch\n",
        "from torch import nn, optim\n",
        "from sklearn.model_selection import train_test_split\n",
        "from sklearn.preprocessing import StandardScaler\n",
        "\n",
        "# Converting Spark DataFrame to Pandas DataFrame for processing with PyTorch\n",
        "df_interactions = spark_df_interactions.toPandas()\n",
        "\n",
        "# Selecting features and target\n",
        "features = df_interactions[['InteractionType', 'Year', 'Month', 'Day']]\n",
        "target = df_interactions['SatisfactionScore']\n",
        "\n",
        "# One-hot encode categorical features and standardize numerical features\n",
        "features = pd.get_dummies(features, columns=['InteractionType'])\n",
        "scaler = StandardScaler()\n",
        "features = scaler.fit_transform(features)\n",
        "\n",
        "# Spliting data into training and test sets\n",
        "X_train, X_test, y_train, y_test = train_test_split(features, target, test_size=0.2, random_state=42)\n",
        "\n",
        "# Converting data to PyTorch tensors\n",
        "X_train = torch.tensor(X_train, dtype=torch.float32)\n",
        "X_test = torch.tensor(X_test, dtype=torch.float32)\n",
        "y_train = torch.tensor(y_train.values, dtype=torch.float32)\n",
        "y_test = torch.tensor(y_test.values, dtype=torch.float32)\n",
        "\n",
        "# Defining the model architecture\n",
        "class InteractionModel(nn.Module):\n",
        "    def __init__(self):\n",
        "        super(InteractionModel, self).__init__()\n",
        "        self.fc1 = nn.Linear(X_train.shape[1], 50)\n",
        "        self.fc2 = nn.Linear(50, 10)\n",
        "        self.fc3 = nn.Linear(10, 1)\n",
        "\n",
        "    def forward(self, x):\n",
        "        x = torch.relu(self.fc1(x))\n",
        "        x = torch.relu(self.fc2(x))\n",
        "        x = torch.sigmoid(self.fc3(x))\n",
        "        return x\n",
        "\n",
        "# Initializing the model, loss function, and optimizer\n",
        "model = InteractionModel()\n",
        "criterion = nn.BCELoss()\n",
        "optimizer = optim.Adam(model.parameters(), lr=0.001)\n",
        "\n",
        "# Training the model\n",
        "epochs = 100\n",
        "for epoch in range(epochs):\n",
        "    model.train()\n",
        "    optimizer.zero_grad()\n",
        "    output = model(X_train)\n",
        "    loss = criterion(output, y_train.unsqueeze(1))\n",
        "    loss.backward()\n",
        "    optimizer.step()\n",
        "\n",
        "    if (epoch+1) % 10 == 0:\n",
        "        print(f'Epoch {epoch+1}/{epochs}, Loss: {loss.item()}')\n",
        "\n",
        "# Evaluate the model\n",
        "model.eval()\n",
        "with torch.no_grad():\n",
        "    predictions = model(X_test)\n",
        "    accuracy = ((predictions.squeeze() > 0.5) == y_test).float().mean()\n",
        "    print(f'Accuracy: {accuracy.item() * 100:.2f}%')\n"
      ],
      "metadata": {
        "id": "TEAEc6rBuNTI"
      },
      "execution_count": null,
      "outputs": []
    }
  ]
}