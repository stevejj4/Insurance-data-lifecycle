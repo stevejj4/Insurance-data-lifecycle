{
  "nbformat": 4,
  "nbformat_minor": 0,
  "metadata": {
    "colab": {
      "provenance": [],
      "authorship_tag": "ABX9TyNffopmng7hFno34QsHeqbR",
      "include_colab_link": true
    },
    "kernelspec": {
      "name": "python3",
      "display_name": "Python 3"
    },
    "language_info": {
      "name": "python"
    }
  },
  "cells": [
    {
      "cell_type": "markdown",
      "metadata": {
        "id": "view-in-github",
        "colab_type": "text"
      },
      "source": [
        "<a href=\"https://colab.research.google.com/github/stevejj4/Insurance-data-lifecycle/blob/main/Interactions_EDA.ipynb\" target=\"_parent\"><img src=\"https://colab.research.google.com/assets/colab-badge.svg\" alt=\"Open In Colab\"/></a>"
      ]
    },
    {
      "cell_type": "code",
      "execution_count": 36,
      "metadata": {
        "id": "zOOxo42biV8Y"
      },
      "outputs": [],
      "source": [
        "#!pip install google-cloud-bigquery\n",
        "#!pip install pyspark==3.1.2\n",
        "\n",
        "from google.colab import auth\n",
        "auth.authenticate_user()\n",
        "\n",
        "from google.cloud import bigquery\n",
        "import pandas as pd\n",
        "from pyspark.sql import SparkSession\n"
      ]
    },
    {
      "cell_type": "code",
      "source": [
        "# Authenticating and initializing BigQuery client\n",
        "project_id = 'river-messenger-430112-e1'\n",
        "client = bigquery.Client(project=project_id)"
      ],
      "metadata": {
        "id": "kilRyfb3oXpc"
      },
      "execution_count": 37,
      "outputs": []
    },
    {
      "cell_type": "code",
      "source": [
        "# Querying to get interactions table\n",
        "query_interactions = \"\"\"\n",
        "SELECT * FROM `river-messenger-430112-e1.Insurance_data.interactions`;\n",
        "\"\"\""
      ],
      "metadata": {
        "id": "Gv0bKuiMolTE"
      },
      "execution_count": 38,
      "outputs": []
    },
    {
      "cell_type": "code",
      "source": [
        "# Executing the query and converting to a pandas DataFrame\n",
        "df_interactions = client.query(query_interactions).to_dataframe()"
      ],
      "metadata": {
        "id": "ZSYLpUqPoqKf"
      },
      "execution_count": 39,
      "outputs": []
    },
    {
      "cell_type": "code",
      "source": [
        "# Displaying the first few rows of the pandas DataFrame\n",
        "#print(df_interactions.head())"
      ],
      "metadata": {
        "id": "22ZWdXNlos-8"
      },
      "execution_count": 40,
      "outputs": []
    },
    {
      "cell_type": "code",
      "source": [
        "# Initializing SparkSession\n",
        "spark = SparkSession.builder \\\n",
        "    .appName('BigQuerySparkApp') \\\n",
        "    .getOrCreate()\n",
        "\n",
        "# Converting pandas DataFrame to Spark DataFrame\n",
        "# Using iterrows() instead of iteritems() to iterate over DataFrame rows\n",
        "spark_df_interactions = spark.createDataFrame(df_interactions.to_dict('records'))\n",
        "\n",
        "# Show the schema and first few rows\n",
        "spark_df_interactions.printSchema()\n",
        "#spark_df_interactions.show(5)"
      ],
      "metadata": {
        "colab": {
          "base_uri": "https://localhost:8080/"
        },
        "id": "QLzcDJNOowY7",
        "outputId": "eb6ab3fe-88ba-4f16-9fd6-3a8c6b9cb91d"
      },
      "execution_count": 41,
      "outputs": [
        {
          "output_type": "stream",
          "name": "stdout",
          "text": [
            "root\n",
            " |-- CustomerID: long (nullable = true)\n",
            " |-- InteractionDate: string (nullable = true)\n",
            " |-- InteractionID: long (nullable = true)\n",
            " |-- InteractionOutcome: string (nullable = true)\n",
            " |-- InteractionType: string (nullable = true)\n",
            "\n"
          ]
        }
      ]
    },
    {
      "cell_type": "code",
      "source": [
        "from pyspark.sql.functions import col, when\n",
        "\n",
        "# Handling missing values\n",
        "# For example, fill missing InteractionOutcome with 'not resolved'\n",
        "spark_df_interactions = spark_df_interactions.fillna({'InteractionOutcome': 'not resolved'})\n",
        "\n",
        "# Display the updated DataFrame\n",
        "spark_df_interactions.show(5)\n"
      ],
      "metadata": {
        "colab": {
          "base_uri": "https://localhost:8080/"
        },
        "id": "W4u21fgTtCNX",
        "outputId": "b287a674-0527-487e-a692-6eddc460110b"
      },
      "execution_count": 42,
      "outputs": [
        {
          "output_type": "stream",
          "name": "stdout",
          "text": [
            "+----------+---------------+-------------+------------------+---------------+\n",
            "|CustomerID|InteractionDate|InteractionID|InteractionOutcome|InteractionType|\n",
            "+----------+---------------+-------------+------------------+---------------+\n",
            "|      1599|     2023-07-19|          518|        Unresolved|           Call|\n",
            "|       488|     2023-07-19|          678|          Resolved|           Call|\n",
            "|      1942|     2023-07-19|          717|          Resolved|           Call|\n",
            "|      1065|     2023-07-19|          822|        Unresolved|           Call|\n",
            "|       988|     2023-07-19|         3839|        Unresolved|           Call|\n",
            "+----------+---------------+-------------+------------------+---------------+\n",
            "only showing top 5 rows\n",
            "\n"
          ]
        }
      ]
    },
    {
      "cell_type": "code",
      "source": [
        "# Creating a satisfaction score feature\n",
        "spark_df_interactions = spark_df_interactions.withColumn(\n",
        "    'SatisfactionScore', when(col('InteractionOutcome') == 'resolved', 1).otherwise(0)\n",
        ")\n",
        "\n",
        "# Extract year, month, day from InteractionDate\n",
        "from pyspark.sql.functions import year, month, dayofmonth\n",
        "\n",
        "spark_df_interactions = spark_df_interactions.withColumn('Year', year(col('InteractionDate')))\n",
        "spark_df_interactions = spark_df_interactions.withColumn('Month', month(col('InteractionDate')))\n",
        "spark_df_interactions = spark_df_interactions.withColumn('Day', dayofmonth(col('InteractionDate')))\n",
        "\n",
        "# Display the updated DataFrame with new features\n",
        "spark_df_interactions.show(5)\n"
      ],
      "metadata": {
        "colab": {
          "base_uri": "https://localhost:8080/"
        },
        "id": "RW31MCfutJoJ",
        "outputId": "456d8b86-52b4-49ab-bbfc-8bcb1651688e"
      },
      "execution_count": 43,
      "outputs": [
        {
          "output_type": "stream",
          "name": "stdout",
          "text": [
            "+----------+---------------+-------------+------------------+---------------+-----------------+----+-----+---+\n",
            "|CustomerID|InteractionDate|InteractionID|InteractionOutcome|InteractionType|SatisfactionScore|Year|Month|Day|\n",
            "+----------+---------------+-------------+------------------+---------------+-----------------+----+-----+---+\n",
            "|      1599|     2023-07-19|          518|        Unresolved|           Call|                0|2023|    7| 19|\n",
            "|       488|     2023-07-19|          678|          Resolved|           Call|                0|2023|    7| 19|\n",
            "|      1942|     2023-07-19|          717|          Resolved|           Call|                0|2023|    7| 19|\n",
            "|      1065|     2023-07-19|          822|        Unresolved|           Call|                0|2023|    7| 19|\n",
            "|       988|     2023-07-19|         3839|        Unresolved|           Call|                0|2023|    7| 19|\n",
            "+----------+---------------+-------------+------------------+---------------+-----------------+----+-----+---+\n",
            "only showing top 5 rows\n",
            "\n"
          ]
        }
      ]
    },
    {
      "cell_type": "code",
      "source": [
        "# Number of interactions per day\n",
        "interactions_per_day = spark_df_interactions.groupBy('Year', 'Month', 'Day').count()\n",
        "interactions_per_day.show(5)\n",
        "\n",
        "# Number of resolved and not resolved interactions\n",
        "interaction_outcomes = spark_df_interactions.groupBy('InteractionOutcome').count()\n",
        "interaction_outcomes.show(5)\n",
        "\n",
        "# Number of interactions per interaction type\n",
        "interactions_per_type = spark_df_interactions.groupBy('InteractionType').count()\n",
        "interactions_per_type.show(5)\n",
        "\n",
        "# Number of interactions per customer\n",
        "interactions_per_customer = spark_df_interactions.groupBy('CustomerID').count()\n",
        "interactions_per_customer.show(5)\n"
      ],
      "metadata": {
        "colab": {
          "base_uri": "https://localhost:8080/"
        },
        "id": "frNPEN5TtrIK",
        "outputId": "a9cfe7b4-c6a3-460d-fcf4-1553f5604d33"
      },
      "execution_count": 44,
      "outputs": [
        {
          "output_type": "stream",
          "name": "stdout",
          "text": [
            "+----+-----+---+-----+\n",
            "|Year|Month|Day|count|\n",
            "+----+-----+---+-----+\n",
            "|2024|    3| 19|   13|\n",
            "|2024|    2| 10|   11|\n",
            "|2024|    1| 13|   14|\n",
            "|2023|    9|  4|   20|\n",
            "|2023|    8| 10|   14|\n",
            "+----+-----+---+-----+\n",
            "only showing top 5 rows\n",
            "\n",
            "+------------------+-----+\n",
            "|InteractionOutcome|count|\n",
            "+------------------+-----+\n",
            "|        Unresolved| 2497|\n",
            "|          Resolved| 2503|\n",
            "+------------------+-----+\n",
            "\n",
            "+---------------+-----+\n",
            "|InteractionType|count|\n",
            "+---------------+-----+\n",
            "|           Call| 1642|\n",
            "|          Email| 1677|\n",
            "|          Visit| 1681|\n",
            "+---------------+-----+\n",
            "\n",
            "+----------+-----+\n",
            "|CustomerID|count|\n",
            "+----------+-----+\n",
            "|        26|    3|\n",
            "|        29|    2|\n",
            "|      1950|    3|\n",
            "|      1806|    4|\n",
            "|       964|    1|\n",
            "+----------+-----+\n",
            "only showing top 5 rows\n",
            "\n"
          ]
        }
      ]
    },
    {
      "cell_type": "code",
      "source": [
        "import matplotlib.pyplot as plt\n",
        "import seaborn as sns\n",
        "\n",
        "# Plot interaction outcomes\n",
        "plt.figure(figsize=(10, 6))\n",
        "sns.barplot(x='InteractionOutcome', y='count', data=pdf_interaction_outcomes)\n",
        "plt.title('Number of Interactions by Outcome')\n",
        "plt.xlabel('Interaction Outcome')\n",
        "plt.ylabel('Count')\n",
        "plt.show()\n"
      ],
      "metadata": {
        "colab": {
          "base_uri": "https://localhost:8080/",
          "height": 446
        },
        "id": "X6E4ngent9H9",
        "outputId": "a3153c01-8e9b-4c2d-a7ec-c199fb5e5206"
      },
      "execution_count": 45,
      "outputs": [
        {
          "output_type": "display_data",
          "data": {
            "text/plain": [
              "<Figure size 1000x600 with 1 Axes>"
            ],
            "image/png": "[encoded data removed]"
          },
          "metadata": {}
        }
      ]
    },
    {
      "cell_type": "code",
      "source": [
        "import torch\n",
        "from torch import nn, optim\n",
        "from sklearn.model_selection import train_test_split\n",
        "from sklearn.preprocessing import StandardScaler\n",
        "\n",
        "# Converting Spark DataFrame to Pandas DataFrame for processing with PyTorch\n",
        "df_interactions = spark_df_interactions.toPandas()\n",
        "\n",
        "# Selecting features and target\n",
        "features = df_interactions[['InteractionType', 'Year', 'Month', 'Day']]\n",
        "target = df_interactions['SatisfactionScore']\n",
        "\n",
        "# One-hot encode categorical features and standardize numerical features\n",
        "features = pd.get_dummies(features, columns=['InteractionType'])\n",
        "scaler = StandardScaler()\n",
        "features = scaler.fit_transform(features)\n",
        "\n",
        "# Spliting data into training and test sets\n",
        "X_train, X_test, y_train, y_test = train_test_split(features, target, test_size=0.2, random_state=42)\n",
        "\n",
        "# Converting data to PyTorch tensors\n",
        "X_train = torch.tensor(X_train, dtype=torch.float32)\n",
        "X_test = torch.tensor(X_test, dtype=torch.float32)\n",
        "y_train = torch.tensor(y_train.values, dtype=torch.float32)\n",
        "y_test = torch.tensor(y_test.values, dtype=torch.float32)\n",
        "\n",
        "# Defining the model architecture\n",
        "class InteractionModel(nn.Module):\n",
        "    def __init__(self):\n",
        "        super(InteractionModel, self).__init__()\n",
        "        self.fc1 = nn.Linear(X_train.shape[1], 50)\n",
        "        self.fc2 = nn.Linear(50, 10)\n",
        "        self.fc3 = nn.Linear(10, 1)\n",
        "\n",
        "    def forward(self, x):\n",
        "        x = torch.relu(self.fc1(x))\n",
        "        x = torch.relu(self.fc2(x))\n",
        "        x = torch.sigmoid(self.fc3(x))\n",
        "        return x\n",
        "\n",
        "# Initializing the model, loss function, and optimizer\n",
        "model = InteractionModel()\n",
        "criterion = nn.BCELoss()\n",
        "optimizer = optim.Adam(model.parameters(), lr=0.001)\n",
        "\n",
        "# Training the model\n",
        "epochs = 100\n",
        "for epoch in range(epochs):\n",
        "    model.train()\n",
        "    optimizer.zero_grad()\n",
        "    output = model(X_train)\n",
        "    loss = criterion(output, y_train.unsqueeze(1))\n",
        "    loss.backward()\n",
        "    optimizer.step()\n",
        "\n",
        "    if (epoch+1) % 10 == 0:\n",
        "        print(f'Epoch {epoch+1}/{epochs}, Loss: {loss.item()}')\n",
        "\n",
        "# Evaluate the model\n",
        "model.eval()\n",
        "with torch.no_grad():\n",
        "    predictions = model(X_test)\n",
        "    accuracy = ((predictions.squeeze() > 0.5) == y_test).float().mean()\n",
        "    print(f'Accuracy: {accuracy.item() * 100:.2f}%')\n"
      ],
      "metadata": {
        "colab": {
          "base_uri": "https://localhost:8080/"
        },
        "id": "TEAEc6rBuNTI",
        "outputId": "95717dbc-a5a8-4181-ee30-4e910e3c4a29"
      },
      "execution_count": 46,
      "outputs": [
        {
          "output_type": "stream",
          "name": "stdout",
          "text": [
            "Epoch 10/100, Loss: 0.7623012065887451\n",
            "Epoch 20/100, Loss: 0.6755478382110596\n",
            "Epoch 30/100, Loss: 0.5653389692306519\n",
            "Epoch 40/100, Loss: 0.43958455324172974\n",
            "Epoch 50/100, Loss: 0.3167325258255005\n",
            "Epoch 60/100, Loss: 0.21423062682151794\n",
            "Epoch 70/100, Loss: 0.13979315757751465\n",
            "Epoch 80/100, Loss: 0.09122921526432037\n",
            "Epoch 90/100, Loss: 0.061394546180963516\n",
            "Epoch 100/100, Loss: 0.04325856640934944\n",
            "Accuracy: 100.00%\n"
          ]
        }
      ]
    }
  ]
}